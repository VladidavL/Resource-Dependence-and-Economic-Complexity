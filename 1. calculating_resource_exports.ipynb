{
 "cells": [
  {
   "cell_type": "code",
   "execution_count": null,
   "metadata": {},
   "outputs": [],
   "source": [
    "# Accessing resource exports data from the Atlas of Economic Complexity\n",
    "# Resource exports are operationalized in three different ways:\n",
    "# 1. oil and gas exports (33, 34)\n",
    "# 2. oil & gas and minerals exports (above + 32, 28, 66, 67, 68)\n",
    "# 3. oil & gas, minerals and soft commodities (above + 04, 06, 07, 12, 23, 24, 25, 27)"
   ]
  },
  {
   "cell_type": "code",
   "execution_count": 1,
   "metadata": {},
   "outputs": [],
   "source": [
    "import os\n",
    "os.getcwd()\n",
    "os.chdir('C:\\\\Users\\\\Vladimir.Grigoryev\\\\Documents\\\\Python Scripts\\\\eci')"
   ]
  },
  {
   "cell_type": "code",
   "execution_count": 2,
   "metadata": {},
   "outputs": [],
   "source": [
    "import pandas as pd\n",
    "import numpy as np"
   ]
  },
  {
   "cell_type": "code",
   "execution_count": 3,
   "metadata": {
    "scrolled": true
   },
   "outputs": [
    {
     "name": "stderr",
     "output_type": "stream",
     "text": [
      "C:\\Users\\Vladimir.Grigoryev\\AppData\\Local\\Continuum\\anaconda3\\lib\\site-packages\\IPython\\core\\interactiveshell.py:3049: DtypeWarning: Columns (9) have mixed types. Specify dtype option on import or set low_memory=False.\n",
      "  interactivity=interactivity, compiler=compiler, result=result)\n"
     ]
    },
    {
     "data": {
      "text/html": [
       "<div>\n",
       "<style scoped>\n",
       "    .dataframe tbody tr th:only-of-type {\n",
       "        vertical-align: middle;\n",
       "    }\n",
       "\n",
       "    .dataframe tbody tr th {\n",
       "        vertical-align: top;\n",
       "    }\n",
       "\n",
       "    .dataframe thead th {\n",
       "        text-align: right;\n",
       "    }\n",
       "</style>\n",
       "<table border=\"1\" class=\"dataframe\">\n",
       "  <thead>\n",
       "    <tr style=\"text-align: right;\">\n",
       "      <th></th>\n",
       "      <th>year</th>\n",
       "      <th>export_value</th>\n",
       "      <th>import_value</th>\n",
       "      <th>hs_eci</th>\n",
       "      <th>hs_coi</th>\n",
       "      <th>sitc_eci</th>\n",
       "      <th>sitc_coi</th>\n",
       "      <th>location_code</th>\n",
       "      <th>location_name_short_en</th>\n",
       "      <th>sitc_product_code</th>\n",
       "      <th>sitc_product_name_short_en</th>\n",
       "    </tr>\n",
       "  </thead>\n",
       "  <tbody>\n",
       "    <tr>\n",
       "      <th>0</th>\n",
       "      <td>1988</td>\n",
       "      <td>0.0</td>\n",
       "      <td>0.0</td>\n",
       "      <td>NaN</td>\n",
       "      <td>NaN</td>\n",
       "      <td>1.370849</td>\n",
       "      <td>-0.474975</td>\n",
       "      <td>ABW</td>\n",
       "      <td>Aruba</td>\n",
       "      <td>0</td>\n",
       "      <td>Live animals chiefly for food</td>\n",
       "    </tr>\n",
       "    <tr>\n",
       "      <th>1</th>\n",
       "      <td>1989</td>\n",
       "      <td>0.0</td>\n",
       "      <td>0.0</td>\n",
       "      <td>NaN</td>\n",
       "      <td>NaN</td>\n",
       "      <td>0.784267</td>\n",
       "      <td>-0.404974</td>\n",
       "      <td>ABW</td>\n",
       "      <td>Aruba</td>\n",
       "      <td>0</td>\n",
       "      <td>Live animals chiefly for food</td>\n",
       "    </tr>\n",
       "    <tr>\n",
       "      <th>2</th>\n",
       "      <td>1990</td>\n",
       "      <td>0.0</td>\n",
       "      <td>5280.0</td>\n",
       "      <td>NaN</td>\n",
       "      <td>NaN</td>\n",
       "      <td>-0.430476</td>\n",
       "      <td>-0.887176</td>\n",
       "      <td>ABW</td>\n",
       "      <td>Aruba</td>\n",
       "      <td>0</td>\n",
       "      <td>Live animals chiefly for food</td>\n",
       "    </tr>\n",
       "    <tr>\n",
       "      <th>3</th>\n",
       "      <td>1991</td>\n",
       "      <td>13546.0</td>\n",
       "      <td>48759.0</td>\n",
       "      <td>NaN</td>\n",
       "      <td>NaN</td>\n",
       "      <td>-0.569074</td>\n",
       "      <td>-0.893478</td>\n",
       "      <td>ABW</td>\n",
       "      <td>Aruba</td>\n",
       "      <td>0</td>\n",
       "      <td>Live animals chiefly for food</td>\n",
       "    </tr>\n",
       "    <tr>\n",
       "      <th>4</th>\n",
       "      <td>1992</td>\n",
       "      <td>31105.0</td>\n",
       "      <td>29348.0</td>\n",
       "      <td>NaN</td>\n",
       "      <td>NaN</td>\n",
       "      <td>-0.269096</td>\n",
       "      <td>-0.910005</td>\n",
       "      <td>ABW</td>\n",
       "      <td>Aruba</td>\n",
       "      <td>0</td>\n",
       "      <td>Live animals chiefly for food</td>\n",
       "    </tr>\n",
       "  </tbody>\n",
       "</table>\n",
       "</div>"
      ],
      "text/plain": [
       "   year  export_value  import_value  hs_eci  hs_coi  sitc_eci  sitc_coi  \\\n",
       "0  1988           0.0           0.0     NaN     NaN  1.370849 -0.474975   \n",
       "1  1989           0.0           0.0     NaN     NaN  0.784267 -0.404974   \n",
       "2  1990           0.0        5280.0     NaN     NaN -0.430476 -0.887176   \n",
       "3  1991       13546.0       48759.0     NaN     NaN -0.569074 -0.893478   \n",
       "4  1992       31105.0       29348.0     NaN     NaN -0.269096 -0.910005   \n",
       "\n",
       "  location_code location_name_short_en sitc_product_code  \\\n",
       "0           ABW                  Aruba                 0   \n",
       "1           ABW                  Aruba                 0   \n",
       "2           ABW                  Aruba                 0   \n",
       "3           ABW                  Aruba                 0   \n",
       "4           ABW                  Aruba                 0   \n",
       "\n",
       "      sitc_product_name_short_en  \n",
       "0  Live animals chiefly for food  \n",
       "1  Live animals chiefly for food  \n",
       "2  Live animals chiefly for food  \n",
       "3  Live animals chiefly for food  \n",
       "4  Live animals chiefly for food  "
      ]
     },
     "execution_count": 3,
     "metadata": {},
     "output_type": "execute_result"
    }
   ],
   "source": [
    "path1 = pd.read_csv('2digit.csv', sep = \",\")\n",
    "data = pd.DataFrame(path1)\n",
    "data.head(5)"
   ]
  },
  {
   "cell_type": "code",
   "execution_count": 20,
   "metadata": {},
   "outputs": [
    {
     "data": {
      "text/html": [
       "<div>\n",
       "<style scoped>\n",
       "    .dataframe tbody tr th:only-of-type {\n",
       "        vertical-align: middle;\n",
       "    }\n",
       "\n",
       "    .dataframe tbody tr th {\n",
       "        vertical-align: top;\n",
       "    }\n",
       "\n",
       "    .dataframe thead th {\n",
       "        text-align: right;\n",
       "    }\n",
       "</style>\n",
       "<table border=\"1\" class=\"dataframe\">\n",
       "  <thead>\n",
       "    <tr style=\"text-align: right;\">\n",
       "      <th></th>\n",
       "      <th>location_code</th>\n",
       "      <th>location_name_short_en</th>\n",
       "      <th>sitc_product_code</th>\n",
       "      <th>sitc_product_name_short_en</th>\n",
       "    </tr>\n",
       "  </thead>\n",
       "  <tbody>\n",
       "    <tr>\n",
       "      <th>count</th>\n",
       "      <td>22706</td>\n",
       "      <td>22706</td>\n",
       "      <td>22706</td>\n",
       "      <td>22706</td>\n",
       "    </tr>\n",
       "    <tr>\n",
       "      <th>unique</th>\n",
       "      <td>250</td>\n",
       "      <td>250</td>\n",
       "      <td>2</td>\n",
       "      <td>2</td>\n",
       "    </tr>\n",
       "    <tr>\n",
       "      <th>top</th>\n",
       "      <td>GBR</td>\n",
       "      <td>Honduras</td>\n",
       "      <td>34</td>\n",
       "      <td>Gas, natural and manufactured</td>\n",
       "    </tr>\n",
       "    <tr>\n",
       "      <th>freq</th>\n",
       "      <td>110</td>\n",
       "      <td>110</td>\n",
       "      <td>11353</td>\n",
       "      <td>11353</td>\n",
       "    </tr>\n",
       "  </tbody>\n",
       "</table>\n",
       "</div>"
      ],
      "text/plain": [
       "       location_code location_name_short_en  sitc_product_code  \\\n",
       "count          22706                  22706              22706   \n",
       "unique           250                    250                  2   \n",
       "top              GBR               Honduras                 34   \n",
       "freq             110                    110              11353   \n",
       "\n",
       "           sitc_product_name_short_en  \n",
       "count                           22706  \n",
       "unique                              2  \n",
       "top     Gas, natural and manufactured  \n",
       "freq                            11353  "
      ]
     },
     "execution_count": 20,
     "metadata": {},
     "output_type": "execute_result"
    }
   ],
   "source": [
    "filt1 = [33, 34]\n",
    "\n",
    "d1 = data[0:0]\n",
    "\n",
    "for fil in filt1:\n",
    "    inst = data.loc[data.sitc_product_code == fil]\n",
    "    d1 = pd.concat([d1, inst], axis = 0)\n",
    "    \n",
    "d1.describe(include = \"object\")"
   ]
  },
  {
   "cell_type": "code",
   "execution_count": 19,
   "metadata": {},
   "outputs": [
    {
     "data": {
      "text/html": [
       "<div>\n",
       "<style scoped>\n",
       "    .dataframe tbody tr th:only-of-type {\n",
       "        vertical-align: middle;\n",
       "    }\n",
       "\n",
       "    .dataframe tbody tr th {\n",
       "        vertical-align: top;\n",
       "    }\n",
       "\n",
       "    .dataframe thead th {\n",
       "        text-align: right;\n",
       "    }\n",
       "</style>\n",
       "<table border=\"1\" class=\"dataframe\">\n",
       "  <thead>\n",
       "    <tr style=\"text-align: right;\">\n",
       "      <th></th>\n",
       "      <th>location_code</th>\n",
       "      <th>location_name_short_en</th>\n",
       "      <th>sitc_product_code</th>\n",
       "      <th>sitc_product_name_short_en</th>\n",
       "    </tr>\n",
       "  </thead>\n",
       "  <tbody>\n",
       "    <tr>\n",
       "      <th>count</th>\n",
       "      <td>79471</td>\n",
       "      <td>79471</td>\n",
       "      <td>79471</td>\n",
       "      <td>79471</td>\n",
       "    </tr>\n",
       "    <tr>\n",
       "      <th>unique</th>\n",
       "      <td>250</td>\n",
       "      <td>250</td>\n",
       "      <td>7</td>\n",
       "      <td>7</td>\n",
       "    </tr>\n",
       "    <tr>\n",
       "      <th>top</th>\n",
       "      <td>SAU</td>\n",
       "      <td>Honduras</td>\n",
       "      <td>68</td>\n",
       "      <td>Coal, coke and briquettes</td>\n",
       "    </tr>\n",
       "    <tr>\n",
       "      <th>freq</th>\n",
       "      <td>385</td>\n",
       "      <td>385</td>\n",
       "      <td>11353</td>\n",
       "      <td>11353</td>\n",
       "    </tr>\n",
       "  </tbody>\n",
       "</table>\n",
       "</div>"
      ],
      "text/plain": [
       "       location_code location_name_short_en  sitc_product_code  \\\n",
       "count          79471                  79471              79471   \n",
       "unique           250                    250                  7   \n",
       "top              SAU               Honduras                 68   \n",
       "freq             385                    385              11353   \n",
       "\n",
       "       sitc_product_name_short_en  \n",
       "count                       79471  \n",
       "unique                          7  \n",
       "top     Coal, coke and briquettes  \n",
       "freq                        11353  "
      ]
     },
     "execution_count": 19,
     "metadata": {},
     "output_type": "execute_result"
    }
   ],
   "source": [
    "filt2 = [33, 34, 32, 28, 66, 67, 68]\n",
    "\n",
    "d2 = data[0:0]\n",
    "\n",
    "for fil in filt2:\n",
    "    inst = data.loc[data.sitc_product_code == fil]\n",
    "    d2 = pd.concat([d2, inst], axis = 0)\n",
    "    \n",
    "d2.describe(include = \"object\")"
   ]
  },
  {
   "cell_type": "code",
   "execution_count": 21,
   "metadata": {},
   "outputs": [
    {
     "data": {
      "text/html": [
       "<div>\n",
       "<style scoped>\n",
       "    .dataframe tbody tr th:only-of-type {\n",
       "        vertical-align: middle;\n",
       "    }\n",
       "\n",
       "    .dataframe tbody tr th {\n",
       "        vertical-align: top;\n",
       "    }\n",
       "\n",
       "    .dataframe thead th {\n",
       "        text-align: right;\n",
       "    }\n",
       "</style>\n",
       "<table border=\"1\" class=\"dataframe\">\n",
       "  <thead>\n",
       "    <tr style=\"text-align: right;\">\n",
       "      <th></th>\n",
       "      <th>location_code</th>\n",
       "      <th>location_name_short_en</th>\n",
       "      <th>sitc_product_code</th>\n",
       "      <th>sitc_product_name_short_en</th>\n",
       "    </tr>\n",
       "  </thead>\n",
       "  <tbody>\n",
       "    <tr>\n",
       "      <th>count</th>\n",
       "      <td>170295</td>\n",
       "      <td>170295</td>\n",
       "      <td>170295</td>\n",
       "      <td>170295</td>\n",
       "    </tr>\n",
       "    <tr>\n",
       "      <th>unique</th>\n",
       "      <td>250</td>\n",
       "      <td>250</td>\n",
       "      <td>15</td>\n",
       "      <td>15</td>\n",
       "    </tr>\n",
       "    <tr>\n",
       "      <th>top</th>\n",
       "      <td>TWN</td>\n",
       "      <td>Brunei Darussalam</td>\n",
       "      <td>68</td>\n",
       "      <td>Coal, coke and briquettes</td>\n",
       "    </tr>\n",
       "    <tr>\n",
       "      <th>freq</th>\n",
       "      <td>825</td>\n",
       "      <td>825</td>\n",
       "      <td>11353</td>\n",
       "      <td>11353</td>\n",
       "    </tr>\n",
       "  </tbody>\n",
       "</table>\n",
       "</div>"
      ],
      "text/plain": [
       "       location_code location_name_short_en  sitc_product_code  \\\n",
       "count         170295                 170295             170295   \n",
       "unique           250                    250                 15   \n",
       "top              TWN      Brunei Darussalam                 68   \n",
       "freq             825                    825              11353   \n",
       "\n",
       "       sitc_product_name_short_en  \n",
       "count                      170295  \n",
       "unique                         15  \n",
       "top     Coal, coke and briquettes  \n",
       "freq                        11353  "
      ]
     },
     "execution_count": 21,
     "metadata": {},
     "output_type": "execute_result"
    }
   ],
   "source": [
    "filt3 = [33, 34, 32, 28, 66, 67, 68, 4, 6, 7, 12, 23, 24, 25, 27]\n",
    "\n",
    "d3 = data[0:0]\n",
    "\n",
    "for fil in filt3:\n",
    "    inst = data.loc[data.sitc_product_code == fil]\n",
    "    d3 = pd.concat([d3, inst], axis = 0)\n",
    "    \n",
    "d3.describe(include = \"object\")"
   ]
  },
  {
   "cell_type": "code",
   "execution_count": 84,
   "metadata": {},
   "outputs": [
    {
     "name": "stderr",
     "output_type": "stream",
     "text": [
      "C:\\Users\\Vladimir.Grigoryev\\AppData\\Local\\Continuum\\anaconda3\\lib\\site-packages\\ipykernel_launcher.py:3: SettingWithCopyWarning: \n",
      "A value is trying to be set on a copy of a slice from a DataFrame.\n",
      "Try using .loc[row_indexer,col_indexer] = value instead\n",
      "\n",
      "See the caveats in the documentation: http://pandas.pydata.org/pandas-docs/stable/indexing.html#indexing-view-versus-copy\n",
      "  This is separate from the ipykernel package so we can avoid doing imports until\n"
     ]
    }
   ],
   "source": [
    "# now we sum up the values for every country and year\n",
    "r1 = d1[[\"location_code\", \"year\", \"export_value\"]]\n",
    "r1[\"map\"] = r1.index\n",
    "inst = r1.values\n",
    "for i in range(len(inst)):\n",
    "    inst[i][3] = inst[i][0] + str(inst[i][1])\n",
    "    \n",
    "t1 = pd.DataFrame(inst, columns = (\"location_code\", \"year\", \"res_exp1\", \"map\"))"
   ]
  },
  {
   "cell_type": "code",
   "execution_count": 85,
   "metadata": {},
   "outputs": [
    {
     "name": "stderr",
     "output_type": "stream",
     "text": [
      "C:\\Users\\Vladimir.Grigoryev\\AppData\\Local\\Continuum\\anaconda3\\lib\\site-packages\\ipykernel_launcher.py:3: SettingWithCopyWarning: \n",
      "A value is trying to be set on a copy of a slice from a DataFrame.\n",
      "Try using .loc[row_indexer,col_indexer] = value instead\n",
      "\n",
      "See the caveats in the documentation: http://pandas.pydata.org/pandas-docs/stable/indexing.html#indexing-view-versus-copy\n",
      "  This is separate from the ipykernel package so we can avoid doing imports until\n"
     ]
    }
   ],
   "source": [
    "# now we sum up the values for every country and year\n",
    "r2 = d2[[\"location_code\", \"year\", \"export_value\"]]\n",
    "r2[\"map\"] = r2.index\n",
    "inst = r2.values\n",
    "for i in range(len(inst)):\n",
    "    inst[i][3] = inst[i][0] + str(inst[i][1])\n",
    "    \n",
    "t2 = pd.DataFrame(inst, columns = (\"location_code\", \"year\", \"res_exp2\", \"map\"))    "
   ]
  },
  {
   "cell_type": "code",
   "execution_count": 86,
   "metadata": {
    "scrolled": true
   },
   "outputs": [
    {
     "name": "stderr",
     "output_type": "stream",
     "text": [
      "C:\\Users\\Vladimir.Grigoryev\\AppData\\Local\\Continuum\\anaconda3\\lib\\site-packages\\ipykernel_launcher.py:3: SettingWithCopyWarning: \n",
      "A value is trying to be set on a copy of a slice from a DataFrame.\n",
      "Try using .loc[row_indexer,col_indexer] = value instead\n",
      "\n",
      "See the caveats in the documentation: http://pandas.pydata.org/pandas-docs/stable/indexing.html#indexing-view-versus-copy\n",
      "  This is separate from the ipykernel package so we can avoid doing imports until\n"
     ]
    }
   ],
   "source": [
    "# now we sum up the values for every country and year\n",
    "r3 = d3[[\"location_code\", \"year\", \"export_value\"]]\n",
    "r3[\"map\"] = r3.index\n",
    "inst = r3.values\n",
    "for i in range(len(inst)):\n",
    "    inst[i][3] = inst[i][0] + str(inst[i][1])\n",
    "    \n",
    "t3 = pd.DataFrame(inst, columns = (\"location_code\", \"year\", \"res_exp3\", \"map\"))"
   ]
  },
  {
   "cell_type": "code",
   "execution_count": 88,
   "metadata": {},
   "outputs": [],
   "source": [
    "exp1_abs = t1.groupby(\"map\")[\"res_exp1\"].sum().reset_index()\n",
    "exp2_abs = t2.groupby(\"map\")[\"res_exp2\"].sum().reset_index()\n",
    "exp3_abs = t3.groupby(\"map\")[\"res_exp3\"].sum().reset_index()"
   ]
  },
  {
   "cell_type": "code",
   "execution_count": 89,
   "metadata": {},
   "outputs": [
    {
     "data": {
      "text/html": [
       "<div>\n",
       "<style scoped>\n",
       "    .dataframe tbody tr th:only-of-type {\n",
       "        vertical-align: middle;\n",
       "    }\n",
       "\n",
       "    .dataframe tbody tr th {\n",
       "        vertical-align: top;\n",
       "    }\n",
       "\n",
       "    .dataframe thead th {\n",
       "        text-align: right;\n",
       "    }\n",
       "</style>\n",
       "<table border=\"1\" class=\"dataframe\">\n",
       "  <thead>\n",
       "    <tr style=\"text-align: right;\">\n",
       "      <th></th>\n",
       "      <th>map</th>\n",
       "      <th>res_exp1</th>\n",
       "      <th>res_exp2</th>\n",
       "      <th>res_exp3</th>\n",
       "    </tr>\n",
       "  </thead>\n",
       "  <tbody>\n",
       "    <tr>\n",
       "      <th>0</th>\n",
       "      <td>ABW1988</td>\n",
       "      <td>9.432662e+04</td>\n",
       "      <td>9.432662e+04</td>\n",
       "      <td>9.432662e+04</td>\n",
       "    </tr>\n",
       "    <tr>\n",
       "      <th>1</th>\n",
       "      <td>ABW1989</td>\n",
       "      <td>3.731783e+06</td>\n",
       "      <td>3.974673e+06</td>\n",
       "      <td>4.994322e+06</td>\n",
       "    </tr>\n",
       "    <tr>\n",
       "      <th>2</th>\n",
       "      <td>ABW1990</td>\n",
       "      <td>3.899423e+07</td>\n",
       "      <td>3.903815e+07</td>\n",
       "      <td>4.115415e+07</td>\n",
       "    </tr>\n",
       "    <tr>\n",
       "      <th>3</th>\n",
       "      <td>ABW1991</td>\n",
       "      <td>1.733823e+08</td>\n",
       "      <td>1.736360e+08</td>\n",
       "      <td>1.745836e+08</td>\n",
       "    </tr>\n",
       "    <tr>\n",
       "      <th>4</th>\n",
       "      <td>ABW1992</td>\n",
       "      <td>3.184905e+08</td>\n",
       "      <td>3.258677e+08</td>\n",
       "      <td>3.271487e+08</td>\n",
       "    </tr>\n",
       "  </tbody>\n",
       "</table>\n",
       "</div>"
      ],
      "text/plain": [
       "       map      res_exp1      res_exp2      res_exp3\n",
       "0  ABW1988  9.432662e+04  9.432662e+04  9.432662e+04\n",
       "1  ABW1989  3.731783e+06  3.974673e+06  4.994322e+06\n",
       "2  ABW1990  3.899423e+07  3.903815e+07  4.115415e+07\n",
       "3  ABW1991  1.733823e+08  1.736360e+08  1.745836e+08\n",
       "4  ABW1992  3.184905e+08  3.258677e+08  3.271487e+08"
      ]
     },
     "execution_count": 89,
     "metadata": {},
     "output_type": "execute_result"
    }
   ],
   "source": [
    "exp_abs = pd.merge(exp1_abs, exp2_abs, how=\"outer\", on=\"map\")\n",
    "exp_abs = pd.merge(exp_abs, exp3_abs, how=\"outer\", on=\"map\")\n",
    "\n",
    "exp_abs.head()"
   ]
  },
  {
   "cell_type": "code",
   "execution_count": 90,
   "metadata": {},
   "outputs": [],
   "source": [
    "exp1_abs.to_csv(\"exp1_abs.csv\")\n",
    "exp2_abs.to_csv(\"exp2_abs.csv\")\n",
    "exp3_abs.to_csv(\"exp3_abs.csv\")\n",
    "exp_abs.to_csv(\"exp_abs.csv\")"
   ]
  },
  {
   "cell_type": "code",
   "execution_count": null,
   "metadata": {},
   "outputs": [],
   "source": [
    "# END"
   ]
  }
 ],
 "metadata": {
  "kernelspec": {
   "display_name": "Python 3",
   "language": "python",
   "name": "python3"
  },
  "language_info": {
   "codemirror_mode": {
    "name": "ipython",
    "version": 3
   },
   "file_extension": ".py",
   "mimetype": "text/x-python",
   "name": "python",
   "nbconvert_exporter": "python",
   "pygments_lexer": "ipython3",
   "version": "3.7.3"
  }
 },
 "nbformat": 4,
 "nbformat_minor": 2
}
