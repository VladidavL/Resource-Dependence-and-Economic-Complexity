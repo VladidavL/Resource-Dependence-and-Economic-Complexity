{
 "cells": [
  {
   "cell_type": "code",
   "execution_count": null,
   "metadata": {},
   "outputs": [],
   "source": [
    "# Transforming 5y data using forward orthogonal deviations transformation\n",
    "\n",
    "\"\"\"\" \n",
    "Plan:\n",
    "- adding variables for transformation\n",
    "- performing transformation\n",
    "\"\"\"\""
   ]
  },
  {
   "cell_type": "code",
   "execution_count": 1,
   "metadata": {},
   "outputs": [],
   "source": [
    "import pandas as pd\n",
    "import numpy as np\n",
    "import matplotlib.pyplot as plt\n",
    "import math\n",
    "import os\n",
    "os.chdir(\"C:\\\\Users\\\\Vladimir.Grigoryev\\\\Documents\\\\Python Scripts\\\\eci\")"
   ]
  },
  {
   "cell_type": "code",
   "execution_count": 62,
   "metadata": {
    "scrolled": true
   },
   "outputs": [
    {
     "data": {
      "text/html": [
       "<div>\n",
       "<style scoped>\n",
       "    .dataframe tbody tr th:only-of-type {\n",
       "        vertical-align: middle;\n",
       "    }\n",
       "\n",
       "    .dataframe tbody tr th {\n",
       "        vertical-align: top;\n",
       "    }\n",
       "\n",
       "    .dataframe thead th {\n",
       "        text-align: right;\n",
       "    }\n",
       "</style>\n",
       "<table border=\"1\" class=\"dataframe\">\n",
       "  <thead>\n",
       "    <tr style=\"text-align: right;\">\n",
       "      <th></th>\n",
       "      <th>eci1</th>\n",
       "      <th>eci2</th>\n",
       "      <th>eci3</th>\n",
       "      <th>gdp_pc</th>\n",
       "      <th>population</th>\n",
       "      <th>res_exp1_to_gdp</th>\n",
       "      <th>res_exp2_to_gdp</th>\n",
       "      <th>res_exp3_to_gdp</th>\n",
       "      <th>oil_rents</th>\n",
       "      <th>res_rents</th>\n",
       "      <th>oil_prod_pc</th>\n",
       "      <th>map</th>\n",
       "      <th>code</th>\n",
       "      <th>year</th>\n",
       "    </tr>\n",
       "  </thead>\n",
       "  <tbody>\n",
       "    <tr>\n",
       "      <th>0</th>\n",
       "      <td>NaN</td>\n",
       "      <td>NaN</td>\n",
       "      <td>NaN</td>\n",
       "      <td>NaN</td>\n",
       "      <td>55920.2</td>\n",
       "      <td>NaN</td>\n",
       "      <td>NaN</td>\n",
       "      <td>NaN</td>\n",
       "      <td>NaN</td>\n",
       "      <td>NaN</td>\n",
       "      <td>NaN</td>\n",
       "      <td>ABW1960</td>\n",
       "      <td>ABW</td>\n",
       "      <td>1960</td>\n",
       "    </tr>\n",
       "    <tr>\n",
       "      <th>1</th>\n",
       "      <td>NaN</td>\n",
       "      <td>NaN</td>\n",
       "      <td>NaN</td>\n",
       "      <td>NaN</td>\n",
       "      <td>58048.4</td>\n",
       "      <td>NaN</td>\n",
       "      <td>NaN</td>\n",
       "      <td>NaN</td>\n",
       "      <td>NaN</td>\n",
       "      <td>NaN</td>\n",
       "      <td>NaN</td>\n",
       "      <td>ABW1965</td>\n",
       "      <td>ABW</td>\n",
       "      <td>1965</td>\n",
       "    </tr>\n",
       "    <tr>\n",
       "      <th>2</th>\n",
       "      <td>NaN</td>\n",
       "      <td>NaN</td>\n",
       "      <td>NaN</td>\n",
       "      <td>NaN</td>\n",
       "      <td>59822.8</td>\n",
       "      <td>NaN</td>\n",
       "      <td>NaN</td>\n",
       "      <td>NaN</td>\n",
       "      <td>NaN</td>\n",
       "      <td>NaN</td>\n",
       "      <td>NaN</td>\n",
       "      <td>ABW1970</td>\n",
       "      <td>ABW</td>\n",
       "      <td>1970</td>\n",
       "    </tr>\n",
       "    <tr>\n",
       "      <th>3</th>\n",
       "      <td>NaN</td>\n",
       "      <td>NaN</td>\n",
       "      <td>NaN</td>\n",
       "      <td>NaN</td>\n",
       "      <td>60338.4</td>\n",
       "      <td>NaN</td>\n",
       "      <td>NaN</td>\n",
       "      <td>NaN</td>\n",
       "      <td>NaN</td>\n",
       "      <td>NaN</td>\n",
       "      <td>NaN</td>\n",
       "      <td>ABW1975</td>\n",
       "      <td>ABW</td>\n",
       "      <td>1975</td>\n",
       "    </tr>\n",
       "    <tr>\n",
       "      <th>4</th>\n",
       "      <td>NaN</td>\n",
       "      <td>NaN</td>\n",
       "      <td>NaN</td>\n",
       "      <td>NaN</td>\n",
       "      <td>61409.0</td>\n",
       "      <td>NaN</td>\n",
       "      <td>NaN</td>\n",
       "      <td>NaN</td>\n",
       "      <td>NaN</td>\n",
       "      <td>NaN</td>\n",
       "      <td>NaN</td>\n",
       "      <td>ABW1980</td>\n",
       "      <td>ABW</td>\n",
       "      <td>1980</td>\n",
       "    </tr>\n",
       "    <tr>\n",
       "      <th>5</th>\n",
       "      <td>-1.675132</td>\n",
       "      <td>-1.607907</td>\n",
       "      <td>-1.882517</td>\n",
       "      <td>8878.886091</td>\n",
       "      <td>61922.8</td>\n",
       "      <td>0.002763</td>\n",
       "      <td>0.002937</td>\n",
       "      <td>0.003671</td>\n",
       "      <td>0.000000</td>\n",
       "      <td>0.000670</td>\n",
       "      <td>0.000000e+00</td>\n",
       "      <td>ABW1985</td>\n",
       "      <td>ABW</td>\n",
       "      <td>1985</td>\n",
       "    </tr>\n",
       "    <tr>\n",
       "      <th>6</th>\n",
       "      <td>-0.611539</td>\n",
       "      <td>-0.582506</td>\n",
       "      <td>-0.743893</td>\n",
       "      <td>14205.538497</td>\n",
       "      <td>68842.0</td>\n",
       "      <td>0.305848</td>\n",
       "      <td>0.307596</td>\n",
       "      <td>0.310458</td>\n",
       "      <td>0.000000</td>\n",
       "      <td>0.001286</td>\n",
       "      <td>-2.567972e-07</td>\n",
       "      <td>ABW1990</td>\n",
       "      <td>ABW</td>\n",
       "      <td>1990</td>\n",
       "    </tr>\n",
       "    <tr>\n",
       "      <th>7</th>\n",
       "      <td>-0.725764</td>\n",
       "      <td>-0.879930</td>\n",
       "      <td>-1.235726</td>\n",
       "      <td>17877.544202</td>\n",
       "      <td>85051.4</td>\n",
       "      <td>0.480627</td>\n",
       "      <td>0.488937</td>\n",
       "      <td>0.503369</td>\n",
       "      <td>0.000000</td>\n",
       "      <td>0.000911</td>\n",
       "      <td>0.000000e+00</td>\n",
       "      <td>ABW1995</td>\n",
       "      <td>ABW</td>\n",
       "      <td>1995</td>\n",
       "    </tr>\n",
       "    <tr>\n",
       "      <th>8</th>\n",
       "      <td>-1.289946</td>\n",
       "      <td>-1.292263</td>\n",
       "      <td>-1.489566</td>\n",
       "      <td>21026.071264</td>\n",
       "      <td>94899.4</td>\n",
       "      <td>0.393618</td>\n",
       "      <td>0.398277</td>\n",
       "      <td>0.413801</td>\n",
       "      <td>0.000000</td>\n",
       "      <td>0.000692</td>\n",
       "      <td>2.488958e-05</td>\n",
       "      <td>ABW2000</td>\n",
       "      <td>ABW</td>\n",
       "      <td>2000</td>\n",
       "    </tr>\n",
       "    <tr>\n",
       "      <th>9</th>\n",
       "      <td>-1.256261</td>\n",
       "      <td>-1.281521</td>\n",
       "      <td>-1.552428</td>\n",
       "      <td>24979.682247</td>\n",
       "      <td>100977.8</td>\n",
       "      <td>0.775104</td>\n",
       "      <td>0.778384</td>\n",
       "      <td>0.804815</td>\n",
       "      <td>0.000000</td>\n",
       "      <td>0.000886</td>\n",
       "      <td>2.443362e-05</td>\n",
       "      <td>ABW2005</td>\n",
       "      <td>ABW</td>\n",
       "      <td>2005</td>\n",
       "    </tr>\n",
       "    <tr>\n",
       "      <th>10</th>\n",
       "      <td>-1.009909</td>\n",
       "      <td>-1.099710</td>\n",
       "      <td>-1.281072</td>\n",
       "      <td>24750.639408</td>\n",
       "      <td>102656.2</td>\n",
       "      <td>0.287157</td>\n",
       "      <td>0.291343</td>\n",
       "      <td>0.322784</td>\n",
       "      <td>0.000000</td>\n",
       "      <td>0.002409</td>\n",
       "      <td>1.238994e-05</td>\n",
       "      <td>ABW2010</td>\n",
       "      <td>ABW</td>\n",
       "      <td>2010</td>\n",
       "    </tr>\n",
       "    <tr>\n",
       "      <th>11</th>\n",
       "      <td>-1.067345</td>\n",
       "      <td>-1.176682</td>\n",
       "      <td>-1.313831</td>\n",
       "      <td>25567.707317</td>\n",
       "      <td>104809.0</td>\n",
       "      <td>0.048028</td>\n",
       "      <td>0.053534</td>\n",
       "      <td>0.056762</td>\n",
       "      <td>0.000000</td>\n",
       "      <td>0.003225</td>\n",
       "      <td>0.000000e+00</td>\n",
       "      <td>ABW2015</td>\n",
       "      <td>ABW</td>\n",
       "      <td>2015</td>\n",
       "    </tr>\n",
       "    <tr>\n",
       "      <th>12</th>\n",
       "      <td>-0.618793</td>\n",
       "      <td>-0.525618</td>\n",
       "      <td>-0.718038</td>\n",
       "      <td>67.827911</td>\n",
       "      <td>9354859.6</td>\n",
       "      <td>0.000055</td>\n",
       "      <td>0.000553</td>\n",
       "      <td>0.005414</td>\n",
       "      <td>NaN</td>\n",
       "      <td>NaN</td>\n",
       "      <td>NaN</td>\n",
       "      <td>AFG1960</td>\n",
       "      <td>AFG</td>\n",
       "      <td>1960</td>\n",
       "    </tr>\n",
       "    <tr>\n",
       "      <th>13</th>\n",
       "      <td>-0.670401</td>\n",
       "      <td>-0.600801</td>\n",
       "      <td>-0.851604</td>\n",
       "      <td>131.963406</td>\n",
       "      <td>10384429.8</td>\n",
       "      <td>0.001801</td>\n",
       "      <td>0.002224</td>\n",
       "      <td>0.006939</td>\n",
       "      <td>NaN</td>\n",
       "      <td>NaN</td>\n",
       "      <td>NaN</td>\n",
       "      <td>AFG1965</td>\n",
       "      <td>AFG</td>\n",
       "      <td>1965</td>\n",
       "    </tr>\n",
       "    <tr>\n",
       "      <th>14</th>\n",
       "      <td>-0.794513</td>\n",
       "      <td>-0.766614</td>\n",
       "      <td>-1.084719</td>\n",
       "      <td>154.545926</td>\n",
       "      <td>11723050.2</td>\n",
       "      <td>0.010950</td>\n",
       "      <td>0.011542</td>\n",
       "      <td>0.014562</td>\n",
       "      <td>0.063643</td>\n",
       "      <td>0.622472</td>\n",
       "      <td>NaN</td>\n",
       "      <td>AFG1970</td>\n",
       "      <td>AFG</td>\n",
       "      <td>1970</td>\n",
       "    </tr>\n",
       "  </tbody>\n",
       "</table>\n",
       "</div>"
      ],
      "text/plain": [
       "        eci1      eci2      eci3        gdp_pc  population  res_exp1_to_gdp  \\\n",
       "0        NaN       NaN       NaN           NaN     55920.2              NaN   \n",
       "1        NaN       NaN       NaN           NaN     58048.4              NaN   \n",
       "2        NaN       NaN       NaN           NaN     59822.8              NaN   \n",
       "3        NaN       NaN       NaN           NaN     60338.4              NaN   \n",
       "4        NaN       NaN       NaN           NaN     61409.0              NaN   \n",
       "5  -1.675132 -1.607907 -1.882517   8878.886091     61922.8         0.002763   \n",
       "6  -0.611539 -0.582506 -0.743893  14205.538497     68842.0         0.305848   \n",
       "7  -0.725764 -0.879930 -1.235726  17877.544202     85051.4         0.480627   \n",
       "8  -1.289946 -1.292263 -1.489566  21026.071264     94899.4         0.393618   \n",
       "9  -1.256261 -1.281521 -1.552428  24979.682247    100977.8         0.775104   \n",
       "10 -1.009909 -1.099710 -1.281072  24750.639408    102656.2         0.287157   \n",
       "11 -1.067345 -1.176682 -1.313831  25567.707317    104809.0         0.048028   \n",
       "12 -0.618793 -0.525618 -0.718038     67.827911   9354859.6         0.000055   \n",
       "13 -0.670401 -0.600801 -0.851604    131.963406  10384429.8         0.001801   \n",
       "14 -0.794513 -0.766614 -1.084719    154.545926  11723050.2         0.010950   \n",
       "\n",
       "    res_exp2_to_gdp  res_exp3_to_gdp  oil_rents  res_rents   oil_prod_pc  \\\n",
       "0               NaN              NaN        NaN        NaN           NaN   \n",
       "1               NaN              NaN        NaN        NaN           NaN   \n",
       "2               NaN              NaN        NaN        NaN           NaN   \n",
       "3               NaN              NaN        NaN        NaN           NaN   \n",
       "4               NaN              NaN        NaN        NaN           NaN   \n",
       "5          0.002937         0.003671   0.000000   0.000670  0.000000e+00   \n",
       "6          0.307596         0.310458   0.000000   0.001286 -2.567972e-07   \n",
       "7          0.488937         0.503369   0.000000   0.000911  0.000000e+00   \n",
       "8          0.398277         0.413801   0.000000   0.000692  2.488958e-05   \n",
       "9          0.778384         0.804815   0.000000   0.000886  2.443362e-05   \n",
       "10         0.291343         0.322784   0.000000   0.002409  1.238994e-05   \n",
       "11         0.053534         0.056762   0.000000   0.003225  0.000000e+00   \n",
       "12         0.000553         0.005414        NaN        NaN           NaN   \n",
       "13         0.002224         0.006939        NaN        NaN           NaN   \n",
       "14         0.011542         0.014562   0.063643   0.622472           NaN   \n",
       "\n",
       "        map code  year  \n",
       "0   ABW1960  ABW  1960  \n",
       "1   ABW1965  ABW  1965  \n",
       "2   ABW1970  ABW  1970  \n",
       "3   ABW1975  ABW  1975  \n",
       "4   ABW1980  ABW  1980  \n",
       "5   ABW1985  ABW  1985  \n",
       "6   ABW1990  ABW  1990  \n",
       "7   ABW1995  ABW  1995  \n",
       "8   ABW2000  ABW  2000  \n",
       "9   ABW2005  ABW  2005  \n",
       "10  ABW2010  ABW  2010  \n",
       "11  ABW2015  ABW  2015  \n",
       "12  AFG1960  AFG  1960  \n",
       "13  AFG1965  AFG  1965  \n",
       "14  AFG1970  AFG  1970  "
      ]
     },
     "execution_count": 62,
     "metadata": {},
     "output_type": "execute_result"
    }
   ],
   "source": [
    "path = pd.read_csv(\"5y_dataset.csv\")\n",
    "dk = pd.DataFrame(path)\n",
    "dk.drop(\"Unnamed: 0\", axis=1, inplace=True)\n",
    "dk.head(15)"
   ]
  },
  {
   "cell_type": "code",
   "execution_count": 3,
   "metadata": {},
   "outputs": [],
   "source": [
    "# adding total number of periods for each country\n",
    "dh = dk\n",
    "dh[\"T\"] = 0\n",
    "dh[\"t\"] = 0\n",
    "\n",
    "for i in dh.index:\n",
    "    filt = dh.code == dh.at[i, \"code\"]\n",
    "    inst = dh[filt]\n",
    "    dh.at[i, \"T\"] = len(inst)"
   ]
  },
  {
   "cell_type": "code",
   "execution_count": 4,
   "metadata": {},
   "outputs": [],
   "source": [
    "# adding period number for each country series\n",
    "for i in dh.index:\n",
    "    if i == 0:\n",
    "        dh.at[0, \"t\"] = 1\n",
    "    elif dh.at[i, \"code\"] == dh.at[i-1, \"code\"]:\n",
    "        dh.at[i, \"t\"] = dh.at[i-1, \"t\"] + 1\n",
    "    else:\n",
    "        dh.at[i, \"t\"] = 1"
   ]
  },
  {
   "cell_type": "code",
   "execution_count": 65,
   "metadata": {},
   "outputs": [],
   "source": [
    "ds = dh\n",
    "dl = ds[['eci1', 'eci2', 'eci3', 'gdp_pc', 'population', 'res_exp1_to_gdp',\n",
    "       'res_exp2_to_gdp', 'res_exp3_to_gdp', 'oil_rents', 'res_rents',\n",
    "       'oil_prod_pc']]"
   ]
  },
  {
   "cell_type": "code",
   "execution_count": 66,
   "metadata": {},
   "outputs": [
    {
     "data": {
      "text/html": [
       "<div>\n",
       "<style scoped>\n",
       "    .dataframe tbody tr th:only-of-type {\n",
       "        vertical-align: middle;\n",
       "    }\n",
       "\n",
       "    .dataframe tbody tr th {\n",
       "        vertical-align: top;\n",
       "    }\n",
       "\n",
       "    .dataframe thead th {\n",
       "        text-align: right;\n",
       "    }\n",
       "</style>\n",
       "<table border=\"1\" class=\"dataframe\">\n",
       "  <thead>\n",
       "    <tr style=\"text-align: right;\">\n",
       "      <th></th>\n",
       "      <th>eci1</th>\n",
       "      <th>eci2</th>\n",
       "      <th>eci3</th>\n",
       "      <th>gdp_pc</th>\n",
       "      <th>population</th>\n",
       "      <th>res_exp1_to_gdp</th>\n",
       "      <th>res_exp2_to_gdp</th>\n",
       "      <th>res_exp3_to_gdp</th>\n",
       "      <th>oil_rents</th>\n",
       "      <th>res_rents</th>\n",
       "      <th>oil_prod_pc</th>\n",
       "      <th>map</th>\n",
       "      <th>code</th>\n",
       "      <th>year</th>\n",
       "      <th>T</th>\n",
       "      <th>t</th>\n",
       "    </tr>\n",
       "  </thead>\n",
       "  <tbody>\n",
       "    <tr>\n",
       "      <th>0</th>\n",
       "      <td>NaN</td>\n",
       "      <td>NaN</td>\n",
       "      <td>NaN</td>\n",
       "      <td>NaN</td>\n",
       "      <td>15985.182581</td>\n",
       "      <td>NaN</td>\n",
       "      <td>NaN</td>\n",
       "      <td>NaN</td>\n",
       "      <td>NaN</td>\n",
       "      <td>NaN</td>\n",
       "      <td>NaN</td>\n",
       "      <td>ABW1960</td>\n",
       "      <td>ABW</td>\n",
       "      <td>1960</td>\n",
       "      <td>12</td>\n",
       "      <td>1</td>\n",
       "    </tr>\n",
       "    <tr>\n",
       "      <th>1</th>\n",
       "      <td>NaN</td>\n",
       "      <td>NaN</td>\n",
       "      <td>NaN</td>\n",
       "      <td>NaN</td>\n",
       "      <td>16280.982634</td>\n",
       "      <td>NaN</td>\n",
       "      <td>NaN</td>\n",
       "      <td>NaN</td>\n",
       "      <td>NaN</td>\n",
       "      <td>NaN</td>\n",
       "      <td>NaN</td>\n",
       "      <td>ABW1965</td>\n",
       "      <td>ABW</td>\n",
       "      <td>1965</td>\n",
       "      <td>12</td>\n",
       "      <td>2</td>\n",
       "    </tr>\n",
       "    <tr>\n",
       "      <th>2</th>\n",
       "      <td>NaN</td>\n",
       "      <td>NaN</td>\n",
       "      <td>NaN</td>\n",
       "      <td>NaN</td>\n",
       "      <td>15863.412421</td>\n",
       "      <td>NaN</td>\n",
       "      <td>NaN</td>\n",
       "      <td>NaN</td>\n",
       "      <td>NaN</td>\n",
       "      <td>NaN</td>\n",
       "      <td>NaN</td>\n",
       "      <td>ABW1970</td>\n",
       "      <td>ABW</td>\n",
       "      <td>1970</td>\n",
       "      <td>12</td>\n",
       "      <td>3</td>\n",
       "    </tr>\n",
       "    <tr>\n",
       "      <th>3</th>\n",
       "      <td>NaN</td>\n",
       "      <td>NaN</td>\n",
       "      <td>NaN</td>\n",
       "      <td>NaN</td>\n",
       "      <td>13291.931626</td>\n",
       "      <td>NaN</td>\n",
       "      <td>NaN</td>\n",
       "      <td>NaN</td>\n",
       "      <td>NaN</td>\n",
       "      <td>NaN</td>\n",
       "      <td>NaN</td>\n",
       "      <td>ABW1975</td>\n",
       "      <td>ABW</td>\n",
       "      <td>1975</td>\n",
       "      <td>12</td>\n",
       "      <td>4</td>\n",
       "    </tr>\n",
       "    <tr>\n",
       "      <th>4</th>\n",
       "      <td>NaN</td>\n",
       "      <td>NaN</td>\n",
       "      <td>NaN</td>\n",
       "      <td>NaN</td>\n",
       "      <td>9668.204912</td>\n",
       "      <td>NaN</td>\n",
       "      <td>NaN</td>\n",
       "      <td>NaN</td>\n",
       "      <td>NaN</td>\n",
       "      <td>NaN</td>\n",
       "      <td>NaN</td>\n",
       "      <td>ABW1980</td>\n",
       "      <td>ABW</td>\n",
       "      <td>1980</td>\n",
       "      <td>12</td>\n",
       "      <td>5</td>\n",
       "    </tr>\n",
       "  </tbody>\n",
       "</table>\n",
       "</div>"
      ],
      "text/plain": [
       "   eci1  eci2  eci3  gdp_pc    population  res_exp1_to_gdp  res_exp2_to_gdp  \\\n",
       "0   NaN   NaN   NaN     NaN  15985.182581              NaN              NaN   \n",
       "1   NaN   NaN   NaN     NaN  16280.982634              NaN              NaN   \n",
       "2   NaN   NaN   NaN     NaN  15863.412421              NaN              NaN   \n",
       "3   NaN   NaN   NaN     NaN  13291.931626              NaN              NaN   \n",
       "4   NaN   NaN   NaN     NaN   9668.204912              NaN              NaN   \n",
       "\n",
       "   res_exp3_to_gdp  oil_rents  res_rents  oil_prod_pc      map code  year   T  \\\n",
       "0              NaN        NaN        NaN          NaN  ABW1960  ABW  1960  12   \n",
       "1              NaN        NaN        NaN          NaN  ABW1965  ABW  1965  12   \n",
       "2              NaN        NaN        NaN          NaN  ABW1970  ABW  1970  12   \n",
       "3              NaN        NaN        NaN          NaN  ABW1975  ABW  1975  12   \n",
       "4              NaN        NaN        NaN          NaN  ABW1980  ABW  1980  12   \n",
       "\n",
       "   t  \n",
       "0  1  \n",
       "1  2  \n",
       "2  3  \n",
       "3  4  \n",
       "4  5  "
      ]
     },
     "execution_count": 66,
     "metadata": {},
     "output_type": "execute_result"
    }
   ],
   "source": [
    "# performing transformation\n",
    "\n",
    "for col in dl.columns:\n",
    "    for i in ds.index:\n",
    "        if ds.at[i, \"T\"] == ds.at[i, \"t\"]:\n",
    "            ds.at[i, col] = np.nan\n",
    "        elif ds.at[i, \"T\"] != ds.at[i, \"t\"]:\n",
    "            filt = ds.code  == ds.at[i, \"code\"]\n",
    "            inst = ds[filt]\n",
    "            c = 1/(ds.at[i, \"T\"] - ds.at[i, \"t\"])\n",
    "            b = ds[col][i+1:ds.at[i, \"T\"]].sum()\n",
    "            a = math.sqrt((ds.at[i, \"T\"] - ds.at[i, \"t\"])/(ds.at[i, \"T\"] - ds.at[i, \"t\"] + 1))\n",
    "            ds.at[i, col] = a*(ds.at[i, col] - c*b)\n",
    "            \n",
    "ds.head()"
   ]
  },
  {
   "cell_type": "code",
   "execution_count": 67,
   "metadata": {},
   "outputs": [
    {
     "name": "stdout",
     "output_type": "stream",
     "text": [
      "[<matplotlib.lines.Line2D object at 0x000001E5B35142B0>]\n",
      "[<matplotlib.lines.Line2D object at 0x000001E5B3543048>]\n",
      "[<matplotlib.lines.Line2D object at 0x000001E5B3569DD8>]\n",
      "[<matplotlib.lines.Line2D object at 0x000001E5B359DBA8>]\n",
      "[<matplotlib.lines.Line2D object at 0x000001E5B35CE978>]\n",
      "[<matplotlib.lines.Line2D object at 0x000001E5B3600748>]\n",
      "[<matplotlib.lines.Line2D object at 0x000001E5B3632518>]\n",
      "[<matplotlib.lines.Line2D object at 0x000001E5B36642B0>]\n",
      "[<matplotlib.lines.Line2D object at 0x000001E5B36940B8>]\n",
      "[<matplotlib.lines.Line2D object at 0x000001E5B36BDE48>]\n",
      "[<matplotlib.lines.Line2D object at 0x000001E5B36ECC18>]\n",
      "[<matplotlib.lines.Line2D object at 0x000001E5B371D9B0>]\n"
     ]
    },
    {
     "data": {
      "image/png": "[encoded data removed]",
      "text/plain": [
       "<Figure size 432x288 with 1 Axes>"
      ]
     },
     "metadata": {
      "needs_background": "light"
     },
     "output_type": "display_data"
    },
    {
     "data": {
      "image/png": "[encoded data removed]",
      "text/plain": [
       "<Figure size 432x288 with 1 Axes>"
      ]
     },
     "metadata": {
      "needs_background": "light"
     },
     "output_type": "display_data"
    },
    {
     "data": {
      "image/png": "[encoded data removed]",
      "text/plain": [
       "<Figure size 432x288 with 1 Axes>"
      ]
     },
     "metadata": {
      "needs_background": "light"
     },
     "output_type": "display_data"
    },
    {
     "data": {
      "image/png": "[encoded data removed]",
      "text/plain": [
       "<Figure size 432x288 with 1 Axes>"
      ]
     },
     "metadata": {
      "needs_background": "light"
     },
     "output_type": "display_data"
    },
    {
     "data": {
      "image/png": "[encoded data removed]",
      "text/plain": [
       "<Figure size 432x288 with 1 Axes>"
      ]
     },
     "metadata": {
      "needs_background": "light"
     },
     "output_type": "display_data"
    },
    {
     "data": {
      "image/png": "[encoded data removed]",
      "text/plain": [
       "<Figure size 432x288 with 1 Axes>"
      ]
     },
     "metadata": {
      "needs_background": "light"
     },
     "output_type": "display_data"
    },
    {
     "data": {
      "image/png": "[encoded data removed]",
      "text/plain": [
       "<Figure size 432x288 with 1 Axes>"
      ]
     },
     "metadata": {
      "needs_background": "light"
     },
     "output_type": "display_data"
    },
    {
     "data": {
      "image/png": "[encoded data removed]",
      "text/plain": [
       "<Figure size 432x288 with 1 Axes>"
      ]
     },
     "metadata": {
      "needs_background": "light"
     },
     "output_type": "display_data"
    },
    {
     "data": {
      "image/png": "[encoded data removed]",
      "text/plain": [
       "<Figure size 432x288 with 1 Axes>"
      ]
     },
     "metadata": {
      "needs_background": "light"
     },
     "output_type": "display_data"
    },
    {
     "data": {
      "image/png": "[encoded data removed]",
      "text/plain": [
       "<Figure size 432x288 with 1 Axes>"
      ]
     },
     "metadata": {
      "needs_background": "light"
     },
     "output_type": "display_data"
    },
    {
     "data": {
      "image/png": "[encoded data removed]",
      "text/plain": [
       "<Figure size 432x288 with 1 Axes>"
      ]
     },
     "metadata": {
      "needs_background": "light"
     },
     "output_type": "display_data"
    },
    {
     "data": {
      "image/png": "[encoded data removed]",
      "text/plain": [
       "<Figure size 432x288 with 1 Axes>"
      ]
     },
     "metadata": {
      "needs_background": "light"
     },
     "output_type": "display_data"
    }
   ],
   "source": [
    "# Looking at graphs\n",
    "filt = ds.code == \"NOR\"\n",
    "nor = ds[filt]\n",
    "nor = nor[['eci1', 'eci2', \"eci3\", \"gdp_pc\", \"population\", \"res_exp1_to_gdp\", \n",
    "                                   \"res_exp2_to_gdp\", \"res_exp3_to_gdp\", \n",
    "     \"oil_rents\", \"res_rents\", \"oil_prod_pc\", \"year\"]].astype(float)\n",
    "\n",
    "for column in nor.columns:\n",
    "    if nor[column].dtypes == \"float64\":\n",
    "        x = nor.year.astype(int)\n",
    "        y = nor[column]\n",
    "        plt.figure()\n",
    "        plt.xlabel(\"year\")\n",
    "        plt.ylabel(column)\n",
    "        print(plt.plot(x, y, 'o', color='black'))"
   ]
  },
  {
   "cell_type": "code",
   "execution_count": 68,
   "metadata": {},
   "outputs": [],
   "source": [
    "ds.to_csv(\"5y_dataset_transformed.csv\")"
   ]
  },
  {
   "cell_type": "code",
   "execution_count": null,
   "metadata": {},
   "outputs": [],
   "source": [
    "# END"
   ]
  }
 ],
 "metadata": {
  "kernelspec": {
   "display_name": "Python 3",
   "language": "python",
   "name": "python3"
  },
  "language_info": {
   "codemirror_mode": {
    "name": "ipython",
    "version": 3
   },
   "file_extension": ".py",
   "mimetype": "text/x-python",
   "name": "python",
   "nbconvert_exporter": "python",
   "pygments_lexer": "ipython3",
   "version": "3.7.3"
  }
 },
 "nbformat": 4,
 "nbformat_minor": 2
}
