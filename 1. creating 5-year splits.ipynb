{
 "cells": [
  {
   "cell_type": "code",
   "execution_count": 1,
   "metadata": {},
   "outputs": [
    {
     "data": {
      "text/plain": [
       "'\\nI turn data into 5-year averages\\n\\nThen, I reestimate panel models\\n\\n'"
      ]
     },
     "execution_count": 1,
     "metadata": {},
     "output_type": "execute_result"
    }
   ],
   "source": [
    "\"\"\"\n",
    "I turn data into 5-year averages\n",
    "\n",
    "Then, I reestimate panel models\n",
    "\n",
    "\"\"\""
   ]
  },
  {
   "cell_type": "code",
   "execution_count": 3,
   "metadata": {
    "scrolled": true
   },
   "outputs": [
    {
     "data": {
      "text/html": [
       "<div>\n",
       "<style scoped>\n",
       "    .dataframe tbody tr th:only-of-type {\n",
       "        vertical-align: middle;\n",
       "    }\n",
       "\n",
       "    .dataframe tbody tr th {\n",
       "        vertical-align: top;\n",
       "    }\n",
       "\n",
       "    .dataframe thead th {\n",
       "        text-align: right;\n",
       "    }\n",
       "</style>\n",
       "<table border=\"1\" class=\"dataframe\">\n",
       "  <thead>\n",
       "    <tr style=\"text-align: right;\">\n",
       "      <th></th>\n",
       "      <th>map</th>\n",
       "      <th>code</th>\n",
       "      <th>year</th>\n",
       "      <th>eci1</th>\n",
       "      <th>eci2</th>\n",
       "      <th>eci3</th>\n",
       "      <th>gdp_pc</th>\n",
       "      <th>population</th>\n",
       "      <th>res_exp1_to_gdp</th>\n",
       "      <th>res_exp2_to_gdp</th>\n",
       "      <th>res_exp3_to_gdp</th>\n",
       "      <th>oil_rents</th>\n",
       "      <th>res_rents</th>\n",
       "      <th>oil_prod_pc</th>\n",
       "    </tr>\n",
       "  </thead>\n",
       "  <tbody>\n",
       "    <tr>\n",
       "      <th>0</th>\n",
       "      <td>ABW1960</td>\n",
       "      <td>ABW</td>\n",
       "      <td>1960</td>\n",
       "      <td>NaN</td>\n",
       "      <td>NaN</td>\n",
       "      <td>NaN</td>\n",
       "      <td>NaN</td>\n",
       "      <td>54211.0</td>\n",
       "      <td>NaN</td>\n",
       "      <td>NaN</td>\n",
       "      <td>NaN</td>\n",
       "      <td>NaN</td>\n",
       "      <td>NaN</td>\n",
       "      <td>NaN</td>\n",
       "    </tr>\n",
       "    <tr>\n",
       "      <th>1</th>\n",
       "      <td>ABW1961</td>\n",
       "      <td>ABW</td>\n",
       "      <td>1961</td>\n",
       "      <td>NaN</td>\n",
       "      <td>NaN</td>\n",
       "      <td>NaN</td>\n",
       "      <td>NaN</td>\n",
       "      <td>55438.0</td>\n",
       "      <td>NaN</td>\n",
       "      <td>NaN</td>\n",
       "      <td>NaN</td>\n",
       "      <td>NaN</td>\n",
       "      <td>NaN</td>\n",
       "      <td>NaN</td>\n",
       "    </tr>\n",
       "    <tr>\n",
       "      <th>2</th>\n",
       "      <td>ABW1962</td>\n",
       "      <td>ABW</td>\n",
       "      <td>1962</td>\n",
       "      <td>NaN</td>\n",
       "      <td>NaN</td>\n",
       "      <td>NaN</td>\n",
       "      <td>NaN</td>\n",
       "      <td>56225.0</td>\n",
       "      <td>NaN</td>\n",
       "      <td>NaN</td>\n",
       "      <td>NaN</td>\n",
       "      <td>NaN</td>\n",
       "      <td>NaN</td>\n",
       "      <td>NaN</td>\n",
       "    </tr>\n",
       "    <tr>\n",
       "      <th>3</th>\n",
       "      <td>ABW1963</td>\n",
       "      <td>ABW</td>\n",
       "      <td>1963</td>\n",
       "      <td>NaN</td>\n",
       "      <td>NaN</td>\n",
       "      <td>NaN</td>\n",
       "      <td>NaN</td>\n",
       "      <td>56695.0</td>\n",
       "      <td>NaN</td>\n",
       "      <td>NaN</td>\n",
       "      <td>NaN</td>\n",
       "      <td>NaN</td>\n",
       "      <td>NaN</td>\n",
       "      <td>NaN</td>\n",
       "    </tr>\n",
       "    <tr>\n",
       "      <th>4</th>\n",
       "      <td>ABW1964</td>\n",
       "      <td>ABW</td>\n",
       "      <td>1964</td>\n",
       "      <td>NaN</td>\n",
       "      <td>NaN</td>\n",
       "      <td>NaN</td>\n",
       "      <td>NaN</td>\n",
       "      <td>57032.0</td>\n",
       "      <td>NaN</td>\n",
       "      <td>NaN</td>\n",
       "      <td>NaN</td>\n",
       "      <td>NaN</td>\n",
       "      <td>NaN</td>\n",
       "      <td>NaN</td>\n",
       "    </tr>\n",
       "  </tbody>\n",
       "</table>\n",
       "</div>"
      ],
      "text/plain": [
       "       map code  year  eci1  eci2  eci3  gdp_pc  population  res_exp1_to_gdp  \\\n",
       "0  ABW1960  ABW  1960   NaN   NaN   NaN     NaN     54211.0              NaN   \n",
       "1  ABW1961  ABW  1961   NaN   NaN   NaN     NaN     55438.0              NaN   \n",
       "2  ABW1962  ABW  1962   NaN   NaN   NaN     NaN     56225.0              NaN   \n",
       "3  ABW1963  ABW  1963   NaN   NaN   NaN     NaN     56695.0              NaN   \n",
       "4  ABW1964  ABW  1964   NaN   NaN   NaN     NaN     57032.0              NaN   \n",
       "\n",
       "   res_exp2_to_gdp  res_exp3_to_gdp  oil_rents  res_rents  oil_prod_pc  \n",
       "0              NaN              NaN        NaN        NaN          NaN  \n",
       "1              NaN              NaN        NaN        NaN          NaN  \n",
       "2              NaN              NaN        NaN        NaN          NaN  \n",
       "3              NaN              NaN        NaN        NaN          NaN  \n",
       "4              NaN              NaN        NaN        NaN          NaN  "
      ]
     },
     "execution_count": 3,
     "metadata": {},
     "output_type": "execute_result"
    }
   ],
   "source": [
    "import pandas as pd\n",
    "import numpy as np\n",
    "import matplotlib.pyplot as plt\n",
    "import os\n",
    "os.chdir(\"C:\\\\Users\\\\Vladimir.Grigoryev\\\\Documents\\\\Python Scripts\\\\eci\")\n",
    "path = pd.read_csv(\"final_dataset.csv\")\n",
    "dt = pd.DataFrame(path)\n",
    "dt.drop(\"Unnamed: 0\", axis = 1, inplace=True)\n",
    "dt.head()"
   ]
  },
  {
   "cell_type": "code",
   "execution_count": 2,
   "metadata": {
    "scrolled": true
   },
   "outputs": [
    {
     "name": "stderr",
     "output_type": "stream",
     "text": [
      "C:\\Users\\Vladimir.Grigoryev\\AppData\\Local\\Continuum\\anaconda3\\lib\\site-packages\\ipykernel_launcher.py:5: SettingWithCopyWarning: \n",
      "A value is trying to be set on a copy of a slice from a DataFrame.\n",
      "Try using .loc[row_indexer,col_indexer] = value instead\n",
      "\n",
      "See the caveats in the documentation: http://pandas.pydata.org/pandas-docs/stable/indexing.html#indexing-view-versus-copy\n",
      "  \"\"\"\n"
     ]
    },
    {
     "data": {
      "text/html": [
       "<div>\n",
       "<style scoped>\n",
       "    .dataframe tbody tr th:only-of-type {\n",
       "        vertical-align: middle;\n",
       "    }\n",
       "\n",
       "    .dataframe tbody tr th {\n",
       "        vertical-align: top;\n",
       "    }\n",
       "\n",
       "    .dataframe thead th {\n",
       "        text-align: right;\n",
       "    }\n",
       "</style>\n",
       "<table border=\"1\" class=\"dataframe\">\n",
       "  <thead>\n",
       "    <tr style=\"text-align: right;\">\n",
       "      <th></th>\n",
       "      <th>map</th>\n",
       "      <th>code</th>\n",
       "      <th>year</th>\n",
       "      <th>group</th>\n",
       "    </tr>\n",
       "  </thead>\n",
       "  <tbody>\n",
       "    <tr>\n",
       "      <th>0</th>\n",
       "      <td>ABW1960</td>\n",
       "      <td>ABW</td>\n",
       "      <td>1960</td>\n",
       "      <td>0</td>\n",
       "    </tr>\n",
       "    <tr>\n",
       "      <th>1</th>\n",
       "      <td>ABW1961</td>\n",
       "      <td>ABW</td>\n",
       "      <td>1961</td>\n",
       "      <td>1</td>\n",
       "    </tr>\n",
       "    <tr>\n",
       "      <th>2</th>\n",
       "      <td>ABW1962</td>\n",
       "      <td>ABW</td>\n",
       "      <td>1962</td>\n",
       "      <td>2</td>\n",
       "    </tr>\n",
       "    <tr>\n",
       "      <th>3</th>\n",
       "      <td>ABW1963</td>\n",
       "      <td>ABW</td>\n",
       "      <td>1963</td>\n",
       "      <td>3</td>\n",
       "    </tr>\n",
       "    <tr>\n",
       "      <th>4</th>\n",
       "      <td>ABW1964</td>\n",
       "      <td>ABW</td>\n",
       "      <td>1964</td>\n",
       "      <td>4</td>\n",
       "    </tr>\n",
       "  </tbody>\n",
       "</table>\n",
       "</div>"
      ],
      "text/plain": [
       "       map code  year  group\n",
       "0  ABW1960  ABW  1960      0\n",
       "1  ABW1961  ABW  1961      1\n",
       "2  ABW1962  ABW  1962      2\n",
       "3  ABW1963  ABW  1963      3\n",
       "4  ABW1964  ABW  1964      4"
      ]
     },
     "execution_count": 2,
     "metadata": {},
     "output_type": "execute_result"
    }
   ],
   "source": [
    "# taking slice of data for simplicity\n",
    "dg = dt[[\"map\", \"code\", \"year\"]]\n",
    "\n",
    "# creating grouping variable \"group\"\n",
    "dg[\"group\"] = dg.index\n",
    "\n",
    "# setting the size of step\n",
    "n = 5\n",
    "\n",
    "dg.head()"
   ]
  },
  {
   "cell_type": "code",
   "execution_count": 3,
   "metadata": {},
   "outputs": [
    {
     "data": {
      "text/html": [
       "<div>\n",
       "<style scoped>\n",
       "    .dataframe tbody tr th:only-of-type {\n",
       "        vertical-align: middle;\n",
       "    }\n",
       "\n",
       "    .dataframe tbody tr th {\n",
       "        vertical-align: top;\n",
       "    }\n",
       "\n",
       "    .dataframe thead th {\n",
       "        text-align: right;\n",
       "    }\n",
       "</style>\n",
       "<table border=\"1\" class=\"dataframe\">\n",
       "  <thead>\n",
       "    <tr style=\"text-align: right;\">\n",
       "      <th></th>\n",
       "      <th>map</th>\n",
       "      <th>code</th>\n",
       "      <th>year</th>\n",
       "      <th>group</th>\n",
       "    </tr>\n",
       "  </thead>\n",
       "  <tbody>\n",
       "    <tr>\n",
       "      <th>0</th>\n",
       "      <td>ABW1960</td>\n",
       "      <td>ABW</td>\n",
       "      <td>1960</td>\n",
       "      <td>1960</td>\n",
       "    </tr>\n",
       "    <tr>\n",
       "      <th>1</th>\n",
       "      <td>ABW1961</td>\n",
       "      <td>ABW</td>\n",
       "      <td>1961</td>\n",
       "      <td>1960</td>\n",
       "    </tr>\n",
       "    <tr>\n",
       "      <th>2</th>\n",
       "      <td>ABW1962</td>\n",
       "      <td>ABW</td>\n",
       "      <td>1962</td>\n",
       "      <td>1960</td>\n",
       "    </tr>\n",
       "    <tr>\n",
       "      <th>3</th>\n",
       "      <td>ABW1963</td>\n",
       "      <td>ABW</td>\n",
       "      <td>1963</td>\n",
       "      <td>1960</td>\n",
       "    </tr>\n",
       "    <tr>\n",
       "      <th>4</th>\n",
       "      <td>ABW1964</td>\n",
       "      <td>ABW</td>\n",
       "      <td>1964</td>\n",
       "      <td>1960</td>\n",
       "    </tr>\n",
       "    <tr>\n",
       "      <th>5</th>\n",
       "      <td>ABW1965</td>\n",
       "      <td>ABW</td>\n",
       "      <td>1965</td>\n",
       "      <td>1965</td>\n",
       "    </tr>\n",
       "    <tr>\n",
       "      <th>6</th>\n",
       "      <td>ABW1966</td>\n",
       "      <td>ABW</td>\n",
       "      <td>1966</td>\n",
       "      <td>1965</td>\n",
       "    </tr>\n",
       "  </tbody>\n",
       "</table>\n",
       "</div>"
      ],
      "text/plain": [
       "       map code  year group\n",
       "0  ABW1960  ABW  1960  1960\n",
       "1  ABW1961  ABW  1961  1960\n",
       "2  ABW1962  ABW  1962  1960\n",
       "3  ABW1963  ABW  1963  1960\n",
       "4  ABW1964  ABW  1964  1960\n",
       "5  ABW1965  ABW  1965  1965\n",
       "6  ABW1966  ABW  1966  1965"
      ]
     },
     "execution_count": 3,
     "metadata": {},
     "output_type": "execute_result"
    }
   ],
   "source": [
    "# populating grouping variable\n",
    "inst = dg.values\n",
    "for i in range(len(inst)):\n",
    "    y = inst[i][2] % 10\n",
    "    if (y >= 0) and (y < 5):\n",
    "        inst[i][3] = inst[i][2] // 10 * 10\n",
    "    else:\n",
    "        inst[i][3] = inst[i][2] // 10 * 10 + 5\n",
    "        \n",
    "dr = pd.DataFrame(inst, columns = (\"map\", \"code\", \"year\", \"group\"))\n",
    "dr.head(7)"
   ]
  },
  {
   "cell_type": "code",
   "execution_count": 4,
   "metadata": {
    "scrolled": true
   },
   "outputs": [
    {
     "data": {
      "text/html": [
       "<div>\n",
       "<style scoped>\n",
       "    .dataframe tbody tr th:only-of-type {\n",
       "        vertical-align: middle;\n",
       "    }\n",
       "\n",
       "    .dataframe tbody tr th {\n",
       "        vertical-align: top;\n",
       "    }\n",
       "\n",
       "    .dataframe thead th {\n",
       "        text-align: right;\n",
       "    }\n",
       "</style>\n",
       "<table border=\"1\" class=\"dataframe\">\n",
       "  <thead>\n",
       "    <tr style=\"text-align: right;\">\n",
       "      <th></th>\n",
       "      <th>map</th>\n",
       "      <th>code</th>\n",
       "      <th>year</th>\n",
       "      <th>eci1</th>\n",
       "      <th>eci2</th>\n",
       "      <th>eci3</th>\n",
       "      <th>gdp_pc</th>\n",
       "      <th>population</th>\n",
       "      <th>res_exp1_to_gdp</th>\n",
       "      <th>res_exp2_to_gdp</th>\n",
       "      <th>res_exp3_to_gdp</th>\n",
       "      <th>oil_rents</th>\n",
       "      <th>res_rents</th>\n",
       "      <th>oil_prod_pc</th>\n",
       "      <th>group</th>\n",
       "    </tr>\n",
       "  </thead>\n",
       "  <tbody>\n",
       "    <tr>\n",
       "      <th>0</th>\n",
       "      <td>ABW1960</td>\n",
       "      <td>ABW</td>\n",
       "      <td>1960</td>\n",
       "      <td>NaN</td>\n",
       "      <td>NaN</td>\n",
       "      <td>NaN</td>\n",
       "      <td>NaN</td>\n",
       "      <td>54211.0</td>\n",
       "      <td>NaN</td>\n",
       "      <td>NaN</td>\n",
       "      <td>NaN</td>\n",
       "      <td>NaN</td>\n",
       "      <td>NaN</td>\n",
       "      <td>NaN</td>\n",
       "      <td>1960</td>\n",
       "    </tr>\n",
       "    <tr>\n",
       "      <th>1</th>\n",
       "      <td>ABW1961</td>\n",
       "      <td>ABW</td>\n",
       "      <td>1961</td>\n",
       "      <td>NaN</td>\n",
       "      <td>NaN</td>\n",
       "      <td>NaN</td>\n",
       "      <td>NaN</td>\n",
       "      <td>55438.0</td>\n",
       "      <td>NaN</td>\n",
       "      <td>NaN</td>\n",
       "      <td>NaN</td>\n",
       "      <td>NaN</td>\n",
       "      <td>NaN</td>\n",
       "      <td>NaN</td>\n",
       "      <td>1960</td>\n",
       "    </tr>\n",
       "    <tr>\n",
       "      <th>2</th>\n",
       "      <td>ABW1962</td>\n",
       "      <td>ABW</td>\n",
       "      <td>1962</td>\n",
       "      <td>NaN</td>\n",
       "      <td>NaN</td>\n",
       "      <td>NaN</td>\n",
       "      <td>NaN</td>\n",
       "      <td>56225.0</td>\n",
       "      <td>NaN</td>\n",
       "      <td>NaN</td>\n",
       "      <td>NaN</td>\n",
       "      <td>NaN</td>\n",
       "      <td>NaN</td>\n",
       "      <td>NaN</td>\n",
       "      <td>1960</td>\n",
       "    </tr>\n",
       "    <tr>\n",
       "      <th>3</th>\n",
       "      <td>ABW1963</td>\n",
       "      <td>ABW</td>\n",
       "      <td>1963</td>\n",
       "      <td>NaN</td>\n",
       "      <td>NaN</td>\n",
       "      <td>NaN</td>\n",
       "      <td>NaN</td>\n",
       "      <td>56695.0</td>\n",
       "      <td>NaN</td>\n",
       "      <td>NaN</td>\n",
       "      <td>NaN</td>\n",
       "      <td>NaN</td>\n",
       "      <td>NaN</td>\n",
       "      <td>NaN</td>\n",
       "      <td>1960</td>\n",
       "    </tr>\n",
       "    <tr>\n",
       "      <th>4</th>\n",
       "      <td>ABW1964</td>\n",
       "      <td>ABW</td>\n",
       "      <td>1964</td>\n",
       "      <td>NaN</td>\n",
       "      <td>NaN</td>\n",
       "      <td>NaN</td>\n",
       "      <td>NaN</td>\n",
       "      <td>57032.0</td>\n",
       "      <td>NaN</td>\n",
       "      <td>NaN</td>\n",
       "      <td>NaN</td>\n",
       "      <td>NaN</td>\n",
       "      <td>NaN</td>\n",
       "      <td>NaN</td>\n",
       "      <td>1960</td>\n",
       "    </tr>\n",
       "  </tbody>\n",
       "</table>\n",
       "</div>"
      ],
      "text/plain": [
       "       map code  year  eci1  eci2  eci3  gdp_pc  population  res_exp1_to_gdp  \\\n",
       "0  ABW1960  ABW  1960   NaN   NaN   NaN     NaN     54211.0              NaN   \n",
       "1  ABW1961  ABW  1961   NaN   NaN   NaN     NaN     55438.0              NaN   \n",
       "2  ABW1962  ABW  1962   NaN   NaN   NaN     NaN     56225.0              NaN   \n",
       "3  ABW1963  ABW  1963   NaN   NaN   NaN     NaN     56695.0              NaN   \n",
       "4  ABW1964  ABW  1964   NaN   NaN   NaN     NaN     57032.0              NaN   \n",
       "\n",
       "   res_exp2_to_gdp  res_exp3_to_gdp  oil_rents  res_rents  oil_prod_pc group  \n",
       "0              NaN              NaN        NaN        NaN          NaN  1960  \n",
       "1              NaN              NaN        NaN        NaN          NaN  1960  \n",
       "2              NaN              NaN        NaN        NaN          NaN  1960  \n",
       "3              NaN              NaN        NaN        NaN          NaN  1960  \n",
       "4              NaN              NaN        NaN        NaN          NaN  1960  "
      ]
     },
     "execution_count": 4,
     "metadata": {},
     "output_type": "execute_result"
    }
   ],
   "source": [
    "dh = pd.merge(dt, dr[[\"map\", \"group\"]], how=\"inner\", on=\"map\")\n",
    "dh.head()"
   ]
  },
  {
   "cell_type": "code",
   "execution_count": 23,
   "metadata": {},
   "outputs": [
    {
     "data": {
      "text/html": [
       "<div>\n",
       "<style scoped>\n",
       "    .dataframe tbody tr th:only-of-type {\n",
       "        vertical-align: middle;\n",
       "    }\n",
       "\n",
       "    .dataframe tbody tr th {\n",
       "        vertical-align: top;\n",
       "    }\n",
       "\n",
       "    .dataframe thead th {\n",
       "        text-align: right;\n",
       "    }\n",
       "</style>\n",
       "<table border=\"1\" class=\"dataframe\">\n",
       "  <thead>\n",
       "    <tr style=\"text-align: right;\">\n",
       "      <th></th>\n",
       "      <th></th>\n",
       "      <th>eci1</th>\n",
       "      <th>eci2</th>\n",
       "      <th>eci3</th>\n",
       "      <th>gdp_pc</th>\n",
       "      <th>population</th>\n",
       "      <th>res_exp1_to_gdp</th>\n",
       "      <th>res_exp2_to_gdp</th>\n",
       "      <th>res_exp3_to_gdp</th>\n",
       "      <th>oil_rents</th>\n",
       "      <th>res_rents</th>\n",
       "      <th>oil_prod_pc</th>\n",
       "    </tr>\n",
       "    <tr>\n",
       "      <th>code</th>\n",
       "      <th>group</th>\n",
       "      <th></th>\n",
       "      <th></th>\n",
       "      <th></th>\n",
       "      <th></th>\n",
       "      <th></th>\n",
       "      <th></th>\n",
       "      <th></th>\n",
       "      <th></th>\n",
       "      <th></th>\n",
       "      <th></th>\n",
       "      <th></th>\n",
       "    </tr>\n",
       "  </thead>\n",
       "  <tbody>\n",
       "    <tr>\n",
       "      <th rowspan=\"3\" valign=\"top\">ABW</th>\n",
       "      <th>1960</th>\n",
       "      <td>NaN</td>\n",
       "      <td>NaN</td>\n",
       "      <td>NaN</td>\n",
       "      <td>NaN</td>\n",
       "      <td>55920.2</td>\n",
       "      <td>NaN</td>\n",
       "      <td>NaN</td>\n",
       "      <td>NaN</td>\n",
       "      <td>NaN</td>\n",
       "      <td>NaN</td>\n",
       "      <td>NaN</td>\n",
       "    </tr>\n",
       "    <tr>\n",
       "      <th>1965</th>\n",
       "      <td>NaN</td>\n",
       "      <td>NaN</td>\n",
       "      <td>NaN</td>\n",
       "      <td>NaN</td>\n",
       "      <td>58048.4</td>\n",
       "      <td>NaN</td>\n",
       "      <td>NaN</td>\n",
       "      <td>NaN</td>\n",
       "      <td>NaN</td>\n",
       "      <td>NaN</td>\n",
       "      <td>NaN</td>\n",
       "    </tr>\n",
       "    <tr>\n",
       "      <th>1970</th>\n",
       "      <td>NaN</td>\n",
       "      <td>NaN</td>\n",
       "      <td>NaN</td>\n",
       "      <td>NaN</td>\n",
       "      <td>59822.8</td>\n",
       "      <td>NaN</td>\n",
       "      <td>NaN</td>\n",
       "      <td>NaN</td>\n",
       "      <td>NaN</td>\n",
       "      <td>NaN</td>\n",
       "      <td>NaN</td>\n",
       "    </tr>\n",
       "  </tbody>\n",
       "</table>\n",
       "</div>"
      ],
      "text/plain": [
       "            eci1  eci2  eci3  gdp_pc  population  res_exp1_to_gdp  \\\n",
       "code group                                                          \n",
       "ABW  1960    NaN   NaN   NaN     NaN     55920.2              NaN   \n",
       "     1965    NaN   NaN   NaN     NaN     58048.4              NaN   \n",
       "     1970    NaN   NaN   NaN     NaN     59822.8              NaN   \n",
       "\n",
       "            res_exp2_to_gdp  res_exp3_to_gdp  oil_rents  res_rents  \\\n",
       "code group                                                           \n",
       "ABW  1960               NaN              NaN        NaN        NaN   \n",
       "     1965               NaN              NaN        NaN        NaN   \n",
       "     1970               NaN              NaN        NaN        NaN   \n",
       "\n",
       "            oil_prod_pc  \n",
       "code group               \n",
       "ABW  1960           NaN  \n",
       "     1965           NaN  \n",
       "     1970           NaN  "
      ]
     },
     "execution_count": 23,
     "metadata": {},
     "output_type": "execute_result"
    }
   ],
   "source": [
    "dk = dh.drop(\"year\", axis=1).groupby([\"code\", \"group\"]).mean()\n",
    "dk.head(3)"
   ]
  },
  {
   "cell_type": "code",
   "execution_count": 40,
   "metadata": {},
   "outputs": [],
   "source": [
    "inst[0][-1] = str(inst[0][-1][0]) + str(inst[0][-1][1])"
   ]
  },
  {
   "cell_type": "code",
   "execution_count": 67,
   "metadata": {},
   "outputs": [
    {
     "data": {
      "text/html": [
       "<div>\n",
       "<style scoped>\n",
       "    .dataframe tbody tr th:only-of-type {\n",
       "        vertical-align: middle;\n",
       "    }\n",
       "\n",
       "    .dataframe tbody tr th {\n",
       "        vertical-align: top;\n",
       "    }\n",
       "\n",
       "    .dataframe thead th {\n",
       "        text-align: right;\n",
       "    }\n",
       "</style>\n",
       "<table border=\"1\" class=\"dataframe\">\n",
       "  <thead>\n",
       "    <tr style=\"text-align: right;\">\n",
       "      <th></th>\n",
       "      <th>eci1</th>\n",
       "      <th>eci2</th>\n",
       "      <th>eci3</th>\n",
       "      <th>gdp_pc</th>\n",
       "      <th>population</th>\n",
       "      <th>res_exp1_to_gdp</th>\n",
       "      <th>res_exp2_to_gdp</th>\n",
       "      <th>res_exp3_to_gdp</th>\n",
       "      <th>oil_rents</th>\n",
       "      <th>res_rents</th>\n",
       "      <th>oil_prod_pc</th>\n",
       "      <th>map</th>\n",
       "    </tr>\n",
       "  </thead>\n",
       "  <tbody>\n",
       "    <tr>\n",
       "      <th>0</th>\n",
       "      <td>NaN</td>\n",
       "      <td>NaN</td>\n",
       "      <td>NaN</td>\n",
       "      <td>NaN</td>\n",
       "      <td>55920.2</td>\n",
       "      <td>NaN</td>\n",
       "      <td>NaN</td>\n",
       "      <td>NaN</td>\n",
       "      <td>NaN</td>\n",
       "      <td>NaN</td>\n",
       "      <td>NaN</td>\n",
       "      <td>ABW1960</td>\n",
       "    </tr>\n",
       "    <tr>\n",
       "      <th>1</th>\n",
       "      <td>NaN</td>\n",
       "      <td>NaN</td>\n",
       "      <td>NaN</td>\n",
       "      <td>NaN</td>\n",
       "      <td>58048.4</td>\n",
       "      <td>NaN</td>\n",
       "      <td>NaN</td>\n",
       "      <td>NaN</td>\n",
       "      <td>NaN</td>\n",
       "      <td>NaN</td>\n",
       "      <td>NaN</td>\n",
       "      <td>ABW1965</td>\n",
       "    </tr>\n",
       "    <tr>\n",
       "      <th>2</th>\n",
       "      <td>NaN</td>\n",
       "      <td>NaN</td>\n",
       "      <td>NaN</td>\n",
       "      <td>NaN</td>\n",
       "      <td>59822.8</td>\n",
       "      <td>NaN</td>\n",
       "      <td>NaN</td>\n",
       "      <td>NaN</td>\n",
       "      <td>NaN</td>\n",
       "      <td>NaN</td>\n",
       "      <td>NaN</td>\n",
       "      <td>ABW1970</td>\n",
       "    </tr>\n",
       "    <tr>\n",
       "      <th>3</th>\n",
       "      <td>NaN</td>\n",
       "      <td>NaN</td>\n",
       "      <td>NaN</td>\n",
       "      <td>NaN</td>\n",
       "      <td>60338.4</td>\n",
       "      <td>NaN</td>\n",
       "      <td>NaN</td>\n",
       "      <td>NaN</td>\n",
       "      <td>NaN</td>\n",
       "      <td>NaN</td>\n",
       "      <td>NaN</td>\n",
       "      <td>ABW1975</td>\n",
       "    </tr>\n",
       "    <tr>\n",
       "      <th>4</th>\n",
       "      <td>NaN</td>\n",
       "      <td>NaN</td>\n",
       "      <td>NaN</td>\n",
       "      <td>NaN</td>\n",
       "      <td>61409</td>\n",
       "      <td>NaN</td>\n",
       "      <td>NaN</td>\n",
       "      <td>NaN</td>\n",
       "      <td>NaN</td>\n",
       "      <td>NaN</td>\n",
       "      <td>NaN</td>\n",
       "      <td>ABW1980</td>\n",
       "    </tr>\n",
       "  </tbody>\n",
       "</table>\n",
       "</div>"
      ],
      "text/plain": [
       "  eci1 eci2 eci3 gdp_pc population res_exp1_to_gdp res_exp2_to_gdp  \\\n",
       "0  NaN  NaN  NaN    NaN    55920.2             NaN             NaN   \n",
       "1  NaN  NaN  NaN    NaN    58048.4             NaN             NaN   \n",
       "2  NaN  NaN  NaN    NaN    59822.8             NaN             NaN   \n",
       "3  NaN  NaN  NaN    NaN    60338.4             NaN             NaN   \n",
       "4  NaN  NaN  NaN    NaN      61409             NaN             NaN   \n",
       "\n",
       "  res_exp3_to_gdp oil_rents res_rents oil_prod_pc      map  \n",
       "0             NaN       NaN       NaN         NaN  ABW1960  \n",
       "1             NaN       NaN       NaN         NaN  ABW1965  \n",
       "2             NaN       NaN       NaN         NaN  ABW1970  \n",
       "3             NaN       NaN       NaN         NaN  ABW1975  \n",
       "4             NaN       NaN       NaN         NaN  ABW1980  "
      ]
     },
     "execution_count": 67,
     "metadata": {},
     "output_type": "execute_result"
    }
   ],
   "source": [
    "dl = dk\n",
    "dl[\"map_av\"] = dl.index\n",
    "inst = dl.values\n",
    "for i in range(len(inst)):\n",
    "    inst[i][-1] = str(inst[i][-1][0]) + str(inst[i][-1][1])\n",
    "    \n",
    "    \n",
    "dc = pd.DataFrame(inst, columns = ('eci1', 'eci2', \"eci3\", \"gdp_pc\", \"population\", \"res_exp1_to_gdp\", \n",
    "                                   \"res_exp2_to_gdp\", \"res_exp3_to_gdp\", \"oil_rents\", \"res_rents\", \"oil_prod_pc\", \"map\"))\n",
    "dc.head()"
   ]
  },
  {
   "cell_type": "code",
   "execution_count": 68,
   "metadata": {
    "scrolled": true
   },
   "outputs": [
    {
     "data": {
      "text/html": [
       "<div>\n",
       "<style scoped>\n",
       "    .dataframe tbody tr th:only-of-type {\n",
       "        vertical-align: middle;\n",
       "    }\n",
       "\n",
       "    .dataframe tbody tr th {\n",
       "        vertical-align: top;\n",
       "    }\n",
       "\n",
       "    .dataframe thead th {\n",
       "        text-align: right;\n",
       "    }\n",
       "</style>\n",
       "<table border=\"1\" class=\"dataframe\">\n",
       "  <thead>\n",
       "    <tr style=\"text-align: right;\">\n",
       "      <th></th>\n",
       "      <th>eci1</th>\n",
       "      <th>eci2</th>\n",
       "      <th>eci3</th>\n",
       "      <th>gdp_pc</th>\n",
       "      <th>population</th>\n",
       "      <th>res_exp1_to_gdp</th>\n",
       "      <th>res_exp2_to_gdp</th>\n",
       "      <th>res_exp3_to_gdp</th>\n",
       "      <th>oil_rents</th>\n",
       "      <th>res_rents</th>\n",
       "      <th>oil_prod_pc</th>\n",
       "      <th>map</th>\n",
       "      <th>code</th>\n",
       "      <th>year</th>\n",
       "    </tr>\n",
       "  </thead>\n",
       "  <tbody>\n",
       "    <tr>\n",
       "      <th>3447</th>\n",
       "      <td>-0.414066</td>\n",
       "      <td>-0.407226</td>\n",
       "      <td>0.242909</td>\n",
       "      <td>641.177</td>\n",
       "      <td>1.17013e+07</td>\n",
       "      <td>0.00134059</td>\n",
       "      <td>0.0555417</td>\n",
       "      <td>0.180871</td>\n",
       "      <td>0</td>\n",
       "      <td>5.99243</td>\n",
       "      <td>0</td>\n",
       "      <td>ZWE1995</td>\n",
       "      <td>ZWE</td>\n",
       "      <td>1995</td>\n",
       "    </tr>\n",
       "    <tr>\n",
       "      <th>3448</th>\n",
       "      <td>-0.584154</td>\n",
       "      <td>-0.442014</td>\n",
       "      <td>0.0594662</td>\n",
       "      <td>502.095</td>\n",
       "      <td>1.25001e+07</td>\n",
       "      <td>0.000858401</td>\n",
       "      <td>0.0842671</td>\n",
       "      <td>0.21188</td>\n",
       "      <td>0</td>\n",
       "      <td>5.58261</td>\n",
       "      <td>0</td>\n",
       "      <td>ZWE2000</td>\n",
       "      <td>ZWE</td>\n",
       "      <td>2000</td>\n",
       "    </tr>\n",
       "    <tr>\n",
       "      <th>3449</th>\n",
       "      <td>-0.528349</td>\n",
       "      <td>-0.294948</td>\n",
       "      <td>0.125866</td>\n",
       "      <td>456.423</td>\n",
       "      <td>1.33527e+07</td>\n",
       "      <td>0.000664187</td>\n",
       "      <td>0.280849</td>\n",
       "      <td>0.379081</td>\n",
       "      <td>0</td>\n",
       "      <td>13.0108</td>\n",
       "      <td>1.45893e-09</td>\n",
       "      <td>ZWE2005</td>\n",
       "      <td>ZWE</td>\n",
       "      <td>2005</td>\n",
       "    </tr>\n",
       "    <tr>\n",
       "      <th>3450</th>\n",
       "      <td>-0.88819</td>\n",
       "      <td>-0.91598</td>\n",
       "      <td>-0.454469</td>\n",
       "      <td>1106.32</td>\n",
       "      <td>1.473e+07</td>\n",
       "      <td>0.000773237</td>\n",
       "      <td>0.0502525</td>\n",
       "      <td>0.113936</td>\n",
       "      <td>0</td>\n",
       "      <td>7.76242</td>\n",
       "      <td>1.0987e-08</td>\n",
       "      <td>ZWE2010</td>\n",
       "      <td>ZWE</td>\n",
       "      <td>2010</td>\n",
       "    </tr>\n",
       "    <tr>\n",
       "      <th>3451</th>\n",
       "      <td>-0.744267</td>\n",
       "      <td>-0.761537</td>\n",
       "      <td>-0.727709</td>\n",
       "      <td>1290.34</td>\n",
       "      <td>1.61526e+07</td>\n",
       "      <td>0.000449432</td>\n",
       "      <td>0.0247183</td>\n",
       "      <td>0.0788505</td>\n",
       "      <td>0</td>\n",
       "      <td>6.8209</td>\n",
       "      <td>4.8504e-08</td>\n",
       "      <td>ZWE2015</td>\n",
       "      <td>ZWE</td>\n",
       "      <td>2015</td>\n",
       "    </tr>\n",
       "  </tbody>\n",
       "</table>\n",
       "</div>"
      ],
      "text/plain": [
       "          eci1      eci2       eci3   gdp_pc   population res_exp1_to_gdp  \\\n",
       "3447 -0.414066 -0.407226   0.242909  641.177  1.17013e+07      0.00134059   \n",
       "3448 -0.584154 -0.442014  0.0594662  502.095  1.25001e+07     0.000858401   \n",
       "3449 -0.528349 -0.294948   0.125866  456.423  1.33527e+07     0.000664187   \n",
       "3450  -0.88819  -0.91598  -0.454469  1106.32    1.473e+07     0.000773237   \n",
       "3451 -0.744267 -0.761537  -0.727709  1290.34  1.61526e+07     0.000449432   \n",
       "\n",
       "     res_exp2_to_gdp res_exp3_to_gdp oil_rents res_rents  oil_prod_pc  \\\n",
       "3447       0.0555417        0.180871         0   5.99243            0   \n",
       "3448       0.0842671         0.21188         0   5.58261            0   \n",
       "3449        0.280849        0.379081         0   13.0108  1.45893e-09   \n",
       "3450       0.0502525        0.113936         0   7.76242   1.0987e-08   \n",
       "3451       0.0247183       0.0788505         0    6.8209   4.8504e-08   \n",
       "\n",
       "          map code  year  \n",
       "3447  ZWE1995  ZWE  1995  \n",
       "3448  ZWE2000  ZWE  2000  \n",
       "3449  ZWE2005  ZWE  2005  \n",
       "3450  ZWE2010  ZWE  2010  \n",
       "3451  ZWE2015  ZWE  2015  "
      ]
     },
     "execution_count": 68,
     "metadata": {},
     "output_type": "execute_result"
    }
   ],
   "source": [
    "dv = pd.merge(dc, dr[[\"map\", \"code\", \"year\"]], how=\"inner\", on=\"map\")\n",
    "dv.tail()"
   ]
  },
  {
   "cell_type": "code",
   "execution_count": 81,
   "metadata": {},
   "outputs": [],
   "source": [
    "dv.to_csv(\"5y_dataset.csv\")"
   ]
  },
  {
   "cell_type": "code",
   "execution_count": 55,
   "metadata": {},
   "outputs": [],
   "source": [
    "# extension\n",
    "# drawing graphs\n",
    "import matplotlib.pyplot as plt\n",
    "from statsmodels.graphics.tsaplots import plot_acf\n",
    "from statsmodels.graphics.tsaplots import plot_pacf"
   ]
  },
  {
   "cell_type": "code",
   "execution_count": 5,
   "metadata": {
    "scrolled": false
   },
   "outputs": [
    {
     "name": "stdout",
     "output_type": "stream",
     "text": [
      "[<matplotlib.lines.Line2D object at 0x000001D14D94E748>]\n",
      "[<matplotlib.lines.Line2D object at 0x000001D14F2F86D8>]\n",
      "[<matplotlib.lines.Line2D object at 0x000001D14F1DB4A8>]\n",
      "[<matplotlib.lines.Line2D object at 0x000001D14F20D278>]\n",
      "[<matplotlib.lines.Line2D object at 0x000001D14F23F048>]\n",
      "[<matplotlib.lines.Line2D object at 0x000001D14F266DD8>]\n",
      "[<matplotlib.lines.Line2D object at 0x000001D14F296BA8>]\n",
      "[<matplotlib.lines.Line2D object at 0x000001D14F319978>]\n",
      "[<matplotlib.lines.Line2D object at 0x000001D14F34A710>]\n",
      "[<matplotlib.lines.Line2D object at 0x000001D14F37D518>]\n",
      "[<matplotlib.lines.Line2D object at 0x000001D14F3AE2E8>]\n",
      "[<matplotlib.lines.Line2D object at 0x000001D14F3E2080>]\n"
     ]
    },
    {
     "data": {
      "image/png": "[encoded data removed]",
      "text/plain": [
       "<Figure size 432x288 with 1 Axes>"
      ]
     },
     "metadata": {
      "needs_background": "light"
     },
     "output_type": "display_data"
    },
    {
     "data": {
      "image/png": "[encoded data removed]",
      "text/plain": [
       "<Figure size 432x288 with 1 Axes>"
      ]
     },
     "metadata": {
      "needs_background": "light"
     },
     "output_type": "display_data"
    },
    {
     "data": {
      "image/png": "[encoded data removed]",
      "text/plain": [
       "<Figure size 432x288 with 1 Axes>"
      ]
     },
     "metadata": {
      "needs_background": "light"
     },
     "output_type": "display_data"
    },
    {
     "data": {
      "image/png": "[encoded data removed]",
      "text/plain": [
       "<Figure size 432x288 with 1 Axes>"
      ]
     },
     "metadata": {
      "needs_background": "light"
     },
     "output_type": "display_data"
    },
    {
     "data": {
      "image/png": "[encoded data removed]",
      "text/plain": [
       "<Figure size 432x288 with 1 Axes>"
      ]
     },
     "metadata": {
      "needs_background": "light"
     },
     "output_type": "display_data"
    },
    {
     "data": {
      "image/png": "[encoded data removed]",
      "text/plain": [
       "<Figure size 432x288 with 1 Axes>"
      ]
     },
     "metadata": {
      "needs_background": "light"
     },
     "output_type": "display_data"
    },
    {
     "data": {
      "image/png": "[encoded data removed]",
      "text/plain": [
       "<Figure size 432x288 with 1 Axes>"
      ]
     },
     "metadata": {
      "needs_background": "light"
     },
     "output_type": "display_data"
    },
    {
     "data": {
      "image/png": "[encoded data removed]",
      "text/plain": [
       "<Figure size 432x288 with 1 Axes>"
      ]
     },
     "metadata": {
      "needs_background": "light"
     },
     "output_type": "display_data"
    },
    {
     "data": {
      "image/png": "[encoded data removed]",
      "text/plain": [
       "<Figure size 432x288 with 1 Axes>"
      ]
     },
     "metadata": {
      "needs_background": "light"
     },
     "output_type": "display_data"
    },
    {
     "data": {
      "image/png": "[encoded data removed]",
      "text/plain": [
       "<Figure size 432x288 with 1 Axes>"
      ]
     },
     "metadata": {
      "needs_background": "light"
     },
     "output_type": "display_data"
    },
    {
     "data": {
      "image/png": "[encoded data removed]",
      "text/plain": [
       "<Figure size 432x288 with 1 Axes>"
      ]
     },
     "metadata": {
      "needs_background": "light"
     },
     "output_type": "display_data"
    },
    {
     "data": {
      "image/png": "[encoded data removed]",
      "text/plain": [
       "<Figure size 432x288 with 1 Axes>"
      ]
     },
     "metadata": {
      "needs_background": "light"
     },
     "output_type": "display_data"
    }
   ],
   "source": [
    "path = pd.read_csv(\"5y_dataset.csv\")\n",
    "dv = pd.DataFrame(path)\n",
    "\n",
    "filt = dv.code == \"NOR\"\n",
    "nor = dv[filt]\n",
    "nor = nor[['eci1', 'eci2', \"eci3\", \"gdp_pc\", \"population\", \"res_exp1_to_gdp\", \n",
    "                                   \"res_exp2_to_gdp\", \"res_exp3_to_gdp\", \n",
    "     \"oil_rents\", \"res_rents\", \"oil_prod_pc\", \"year\"]].astype(float)\n",
    "\n",
    "for column in nor.columns:\n",
    "    if nor[column].dtypes == \"float64\":\n",
    "        x = nor.year.astype(int)\n",
    "        y = nor[column]\n",
    "        plt.figure()\n",
    "        plt.xlabel(\"year\")\n",
    "        plt.ylabel(column)\n",
    "        print(plt.plot(x, y, 'o', color='black'))"
   ]
  },
  {
   "cell_type": "code",
   "execution_count": 73,
   "metadata": {},
   "outputs": [
    {
     "data": {
      "text/plain": [
       "<Figure size 432x288 with 0 Axes>"
      ]
     },
     "metadata": {},
     "output_type": "display_data"
    },
    {
     "data": {
      "image/png": "[encoded data removed]",
      "text/plain": [
       "<Figure size 432x288 with 1 Axes>"
      ]
     },
     "metadata": {
      "needs_background": "light"
     },
     "output_type": "display_data"
    },
    {
     "data": {
      "text/plain": [
       "<Figure size 432x288 with 0 Axes>"
      ]
     },
     "metadata": {},
     "output_type": "display_data"
    },
    {
     "data": {
      "image/png": "[encoded data removed]",
      "text/plain": [
       "<Figure size 432x288 with 1 Axes>"
      ]
     },
     "metadata": {
      "needs_background": "light"
     },
     "output_type": "display_data"
    }
   ],
   "source": [
    "filt = dv.code == \"NOR\"\n",
    "nor = dv[filt]\n",
    "series = pd.Series(nor[\"eci1\"].astype(float).dropna())\n",
    "plt.figure()\n",
    "plot_acf(series)\n",
    "plt.show()\n",
    "\n",
    "plt.figure()\n",
    "plot_pacf(series, lags=5)\n",
    "plt.show()"
   ]
  }
 ],
 "metadata": {
  "kernelspec": {
   "display_name": "Python 3",
   "language": "python",
   "name": "python3"
  },
  "language_info": {
   "codemirror_mode": {
    "name": "ipython",
    "version": 3
   },
   "file_extension": ".py",
   "mimetype": "text/x-python",
   "name": "python",
   "nbconvert_exporter": "python",
   "pygments_lexer": "ipython3",
   "version": "3.7.3"
  }
 },
 "nbformat": 4,
 "nbformat_minor": 2
}
