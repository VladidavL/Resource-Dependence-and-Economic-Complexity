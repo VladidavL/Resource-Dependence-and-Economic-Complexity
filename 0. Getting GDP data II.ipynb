{
 "cells": [
  {
   "cell_type": "code",
   "execution_count": 34,
   "metadata": {
    "scrolled": true
   },
   "outputs": [
    {
     "data": {
      "text/plain": [
       "' In this workbook I download and prepare World Bank data on gross domestic product in constant dollars'"
      ]
     },
     "execution_count": 34,
     "metadata": {},
     "output_type": "execute_result"
    }
   ],
   "source": [
    "\"\"\" In this workbook I download and prepare World Bank data on gross domestic product in constant dollars\"\"\""
   ]
  },
  {
   "cell_type": "code",
   "execution_count": 35,
   "metadata": {},
   "outputs": [],
   "source": [
    "import os\n",
    "os.getcwd()\n",
    "os.chdir('C:\\\\Users\\\\Vladimir.Grigoryev\\\\Documents\\\\Python Scripts\\\\eci')"
   ]
  },
  {
   "cell_type": "code",
   "execution_count": 36,
   "metadata": {},
   "outputs": [],
   "source": [
    "import pandas as pd\n",
    "import numpy as np"
   ]
  },
  {
   "cell_type": "code",
   "execution_count": 37,
   "metadata": {},
   "outputs": [],
   "source": [
    "path = pd.read_csv(\"API_NY.GDP.MKTP.KD_DS2_en_csv_v2_10576706.csv\", header=2)\n",
    "y1 = pd.DataFrame(path)\n",
    "y1.drop([\"Country Name\", \"Indicator Code\", \"Indicator Name\", \"Unnamed: 63\"], axis = 1, inplace=True)"
   ]
  },
  {
   "cell_type": "code",
   "execution_count": 38,
   "metadata": {},
   "outputs": [
    {
     "data": {
      "text/html": [
       "<div>\n",
       "<style scoped>\n",
       "    .dataframe tbody tr th:only-of-type {\n",
       "        vertical-align: middle;\n",
       "    }\n",
       "\n",
       "    .dataframe tbody tr th {\n",
       "        vertical-align: top;\n",
       "    }\n",
       "\n",
       "    .dataframe thead th {\n",
       "        text-align: right;\n",
       "    }\n",
       "</style>\n",
       "<table border=\"1\" class=\"dataframe\">\n",
       "  <thead>\n",
       "    <tr style=\"text-align: right;\">\n",
       "      <th></th>\n",
       "      <th>Country Code</th>\n",
       "      <th>1960</th>\n",
       "      <th>1961</th>\n",
       "      <th>1962</th>\n",
       "      <th>1963</th>\n",
       "      <th>1964</th>\n",
       "      <th>1965</th>\n",
       "      <th>1966</th>\n",
       "      <th>1967</th>\n",
       "      <th>1968</th>\n",
       "      <th>...</th>\n",
       "      <th>2009</th>\n",
       "      <th>2010</th>\n",
       "      <th>2011</th>\n",
       "      <th>2012</th>\n",
       "      <th>2013</th>\n",
       "      <th>2014</th>\n",
       "      <th>2015</th>\n",
       "      <th>2016</th>\n",
       "      <th>2017</th>\n",
       "      <th>2018</th>\n",
       "    </tr>\n",
       "  </thead>\n",
       "  <tbody>\n",
       "    <tr>\n",
       "      <th>0</th>\n",
       "      <td>ABW</td>\n",
       "      <td>NaN</td>\n",
       "      <td>NaN</td>\n",
       "      <td>NaN</td>\n",
       "      <td>NaN</td>\n",
       "      <td>NaN</td>\n",
       "      <td>NaN</td>\n",
       "      <td>NaN</td>\n",
       "      <td>NaN</td>\n",
       "      <td>NaN</td>\n",
       "      <td>...</td>\n",
       "      <td>2.481964e+09</td>\n",
       "      <td>2.390503e+09</td>\n",
       "      <td>2.472881e+09</td>\n",
       "      <td>2.439006e+09</td>\n",
       "      <td>2.541401e+09</td>\n",
       "      <td>2.562958e+09</td>\n",
       "      <td>2.551409e+09</td>\n",
       "      <td>2.546020e+09</td>\n",
       "      <td>2.579895e+09</td>\n",
       "      <td>NaN</td>\n",
       "    </tr>\n",
       "    <tr>\n",
       "      <th>1</th>\n",
       "      <td>AFG</td>\n",
       "      <td>NaN</td>\n",
       "      <td>NaN</td>\n",
       "      <td>NaN</td>\n",
       "      <td>NaN</td>\n",
       "      <td>NaN</td>\n",
       "      <td>NaN</td>\n",
       "      <td>NaN</td>\n",
       "      <td>NaN</td>\n",
       "      <td>NaN</td>\n",
       "      <td>...</td>\n",
       "      <td>1.386519e+10</td>\n",
       "      <td>1.585657e+10</td>\n",
       "      <td>1.592418e+10</td>\n",
       "      <td>1.795488e+10</td>\n",
       "      <td>1.896048e+10</td>\n",
       "      <td>1.947707e+10</td>\n",
       "      <td>1.975974e+10</td>\n",
       "      <td>2.020638e+10</td>\n",
       "      <td>2.074494e+10</td>\n",
       "      <td>NaN</td>\n",
       "    </tr>\n",
       "    <tr>\n",
       "      <th>2</th>\n",
       "      <td>AGO</td>\n",
       "      <td>NaN</td>\n",
       "      <td>NaN</td>\n",
       "      <td>NaN</td>\n",
       "      <td>NaN</td>\n",
       "      <td>NaN</td>\n",
       "      <td>NaN</td>\n",
       "      <td>NaN</td>\n",
       "      <td>NaN</td>\n",
       "      <td>NaN</td>\n",
       "      <td>...</td>\n",
       "      <td>7.991619e+10</td>\n",
       "      <td>8.379950e+10</td>\n",
       "      <td>8.670900e+10</td>\n",
       "      <td>9.411581e+10</td>\n",
       "      <td>9.877886e+10</td>\n",
       "      <td>1.035426e+11</td>\n",
       "      <td>1.045196e+11</td>\n",
       "      <td>1.018229e+11</td>\n",
       "      <td>1.016730e+11</td>\n",
       "      <td>NaN</td>\n",
       "    </tr>\n",
       "    <tr>\n",
       "      <th>3</th>\n",
       "      <td>ALB</td>\n",
       "      <td>NaN</td>\n",
       "      <td>NaN</td>\n",
       "      <td>NaN</td>\n",
       "      <td>NaN</td>\n",
       "      <td>NaN</td>\n",
       "      <td>NaN</td>\n",
       "      <td>NaN</td>\n",
       "      <td>NaN</td>\n",
       "      <td>NaN</td>\n",
       "      <td>...</td>\n",
       "      <td>1.150030e+10</td>\n",
       "      <td>1.192696e+10</td>\n",
       "      <td>1.223109e+10</td>\n",
       "      <td>1.240478e+10</td>\n",
       "      <td>1.252882e+10</td>\n",
       "      <td>1.275058e+10</td>\n",
       "      <td>1.303365e+10</td>\n",
       "      <td>1.347027e+10</td>\n",
       "      <td>1.398693e+10</td>\n",
       "      <td>NaN</td>\n",
       "    </tr>\n",
       "    <tr>\n",
       "      <th>4</th>\n",
       "      <td>AND</td>\n",
       "      <td>NaN</td>\n",
       "      <td>NaN</td>\n",
       "      <td>NaN</td>\n",
       "      <td>NaN</td>\n",
       "      <td>NaN</td>\n",
       "      <td>NaN</td>\n",
       "      <td>NaN</td>\n",
       "      <td>NaN</td>\n",
       "      <td>NaN</td>\n",
       "      <td>...</td>\n",
       "      <td>3.545703e+09</td>\n",
       "      <td>3.355695e+09</td>\n",
       "      <td>3.199772e+09</td>\n",
       "      <td>3.148088e+09</td>\n",
       "      <td>3.159158e+09</td>\n",
       "      <td>3.231114e+09</td>\n",
       "      <td>3.258327e+09</td>\n",
       "      <td>3.319880e+09</td>\n",
       "      <td>3.382068e+09</td>\n",
       "      <td>NaN</td>\n",
       "    </tr>\n",
       "  </tbody>\n",
       "</table>\n",
       "<p>5 rows × 60 columns</p>\n",
       "</div>"
      ],
      "text/plain": [
       "  Country Code  1960  1961  1962  1963  1964  1965  1966  1967  1968  ...  \\\n",
       "0          ABW   NaN   NaN   NaN   NaN   NaN   NaN   NaN   NaN   NaN  ...   \n",
       "1          AFG   NaN   NaN   NaN   NaN   NaN   NaN   NaN   NaN   NaN  ...   \n",
       "2          AGO   NaN   NaN   NaN   NaN   NaN   NaN   NaN   NaN   NaN  ...   \n",
       "3          ALB   NaN   NaN   NaN   NaN   NaN   NaN   NaN   NaN   NaN  ...   \n",
       "4          AND   NaN   NaN   NaN   NaN   NaN   NaN   NaN   NaN   NaN  ...   \n",
       "\n",
       "           2009          2010          2011          2012          2013  \\\n",
       "0  2.481964e+09  2.390503e+09  2.472881e+09  2.439006e+09  2.541401e+09   \n",
       "1  1.386519e+10  1.585657e+10  1.592418e+10  1.795488e+10  1.896048e+10   \n",
       "2  7.991619e+10  8.379950e+10  8.670900e+10  9.411581e+10  9.877886e+10   \n",
       "3  1.150030e+10  1.192696e+10  1.223109e+10  1.240478e+10  1.252882e+10   \n",
       "4  3.545703e+09  3.355695e+09  3.199772e+09  3.148088e+09  3.159158e+09   \n",
       "\n",
       "           2014          2015          2016          2017  2018  \n",
       "0  2.562958e+09  2.551409e+09  2.546020e+09  2.579895e+09   NaN  \n",
       "1  1.947707e+10  1.975974e+10  2.020638e+10  2.074494e+10   NaN  \n",
       "2  1.035426e+11  1.045196e+11  1.018229e+11  1.016730e+11   NaN  \n",
       "3  1.275058e+10  1.303365e+10  1.347027e+10  1.398693e+10   NaN  \n",
       "4  3.231114e+09  3.258327e+09  3.319880e+09  3.382068e+09   NaN  \n",
       "\n",
       "[5 rows x 60 columns]"
      ]
     },
     "execution_count": 38,
     "metadata": {},
     "output_type": "execute_result"
    }
   ],
   "source": [
    "y1.head()"
   ]
  },
  {
   "cell_type": "code",
   "execution_count": 39,
   "metadata": {},
   "outputs": [
    {
     "data": {
      "text/plain": [
       "array([['ABW', nan, nan, ..., 2546020205.29152, 2579895285.13211, nan],\n",
       "       ['AFG', nan, nan, ..., 20206376461.4103, 20744935406.0955, nan],\n",
       "       ['AGO', nan, nan, ..., 101822893038.982, 101673002182.77802, nan],\n",
       "       ...,\n",
       "       ['ZAF', 79070958914.0854, 82111040763.2424, ..., 421266226142.599,\n",
       "        426813227524.301, nan],\n",
       "       ['ZMB', 4592975693.64824, 4655503637.614389, ...,\n",
       "        27037168289.1747, 27957288778.6371, nan],\n",
       "       ['ZWE', 3756656488.44269, 3993932820.3231397, ...,\n",
       "        17177545688.225, 17985583516.6265, nan]], dtype=object)"
      ]
     },
     "execution_count": 39,
     "metadata": {},
     "output_type": "execute_result"
    }
   ],
   "source": [
    "inst = y1.values\n",
    "inst"
   ]
  },
  {
   "cell_type": "code",
   "execution_count": 40,
   "metadata": {},
   "outputs": [
    {
     "data": {
      "text/plain": [
       "(264, 60, range(0, 264))"
      ]
     },
     "execution_count": 40,
     "metadata": {},
     "output_type": "execute_result"
    }
   ],
   "source": [
    "len(inst), len(y1.columns), range(len(inst))"
   ]
  },
  {
   "cell_type": "code",
   "execution_count": 41,
   "metadata": {},
   "outputs": [
    {
     "data": {
      "text/html": [
       "<div>\n",
       "<style scoped>\n",
       "    .dataframe tbody tr th:only-of-type {\n",
       "        vertical-align: middle;\n",
       "    }\n",
       "\n",
       "    .dataframe tbody tr th {\n",
       "        vertical-align: top;\n",
       "    }\n",
       "\n",
       "    .dataframe thead th {\n",
       "        text-align: right;\n",
       "    }\n",
       "</style>\n",
       "<table border=\"1\" class=\"dataframe\">\n",
       "  <thead>\n",
       "    <tr style=\"text-align: right;\">\n",
       "      <th></th>\n",
       "      <th>Country Code</th>\n",
       "      <th>1960</th>\n",
       "      <th>1961</th>\n",
       "      <th>1962</th>\n",
       "      <th>1963</th>\n",
       "      <th>1964</th>\n",
       "      <th>1965</th>\n",
       "      <th>1966</th>\n",
       "      <th>1967</th>\n",
       "      <th>1968</th>\n",
       "      <th>...</th>\n",
       "      <th>2009</th>\n",
       "      <th>2010</th>\n",
       "      <th>2011</th>\n",
       "      <th>2012</th>\n",
       "      <th>2013</th>\n",
       "      <th>2014</th>\n",
       "      <th>2015</th>\n",
       "      <th>2016</th>\n",
       "      <th>2017</th>\n",
       "      <th>2018</th>\n",
       "    </tr>\n",
       "  </thead>\n",
       "  <tbody>\n",
       "    <tr>\n",
       "      <th>263</th>\n",
       "      <td>ZWE</td>\n",
       "      <td>3.756656e+09</td>\n",
       "      <td>3.993933e+09</td>\n",
       "      <td>4.051225e+09</td>\n",
       "      <td>4.304197e+09</td>\n",
       "      <td>4.256585e+09</td>\n",
       "      <td>4.465608e+09</td>\n",
       "      <td>4.533625e+09</td>\n",
       "      <td>4.912954e+09</td>\n",
       "      <td>5.009745e+09</td>\n",
       "      <td>...</td>\n",
       "      <td>1.006194e+10</td>\n",
       "      <td>1.204166e+10</td>\n",
       "      <td>1.375084e+10</td>\n",
       "      <td>1.604247e+10</td>\n",
       "      <td>1.636164e+10</td>\n",
       "      <td>1.675054e+10</td>\n",
       "      <td>1.704868e+10</td>\n",
       "      <td>1.717755e+10</td>\n",
       "      <td>1.798558e+10</td>\n",
       "      <td>NaN</td>\n",
       "    </tr>\n",
       "  </tbody>\n",
       "</table>\n",
       "<p>1 rows × 60 columns</p>\n",
       "</div>"
      ],
      "text/plain": [
       "    Country Code          1960          1961          1962          1963  \\\n",
       "263          ZWE  3.756656e+09  3.993933e+09  4.051225e+09  4.304197e+09   \n",
       "\n",
       "             1964          1965          1966          1967          1968  \\\n",
       "263  4.256585e+09  4.465608e+09  4.533625e+09  4.912954e+09  5.009745e+09   \n",
       "\n",
       "     ...          2009          2010          2011          2012  \\\n",
       "263  ...  1.006194e+10  1.204166e+10  1.375084e+10  1.604247e+10   \n",
       "\n",
       "             2013          2014          2015          2016          2017  \\\n",
       "263  1.636164e+10  1.675054e+10  1.704868e+10  1.717755e+10  1.798558e+10   \n",
       "\n",
       "     2018  \n",
       "263   NaN  \n",
       "\n",
       "[1 rows x 60 columns]"
      ]
     },
     "execution_count": 41,
     "metadata": {},
     "output_type": "execute_result"
    }
   ],
   "source": [
    "y1.loc[y1[\"Country Code\"] == \"ZWE\"]"
   ]
  },
  {
   "cell_type": "code",
   "execution_count": 42,
   "metadata": {},
   "outputs": [],
   "source": [
    "series = inst[0][1:]\n",
    "hop = np.vstack((country, years, series))"
   ]
  },
  {
   "cell_type": "code",
   "execution_count": 43,
   "metadata": {},
   "outputs": [
    {
     "data": {
      "text/plain": [
       "array([['country', 'year', 'GDP'],\n",
       "       ['ABW', 1960, nan],\n",
       "       ['ABW', 1961, nan],\n",
       "       ...,\n",
       "       ['ZWE', 2016, 17177545688.225],\n",
       "       ['ZWE', 2017, 17985583516.6265],\n",
       "       ['ZWE', 2018, nan]], dtype=object)"
      ]
     },
     "execution_count": 43,
     "metadata": {},
     "output_type": "execute_result"
    }
   ],
   "source": [
    "data = np.array([\"country\", \"year\", \"GDP\"])\n",
    "years = np.arange(1960,2019)\n",
    "for i in range(len(inst)):\n",
    "    name = inst[i][0]\n",
    "    country = [name for x in range(len(years))]\n",
    "    series = inst[i][1:]\n",
    "    block = np.vstack((country, years, series))\n",
    "    data = np.vstack((data, block.T))\n",
    "data"
   ]
  },
  {
   "cell_type": "code",
   "execution_count": 44,
   "metadata": {},
   "outputs": [
    {
     "data": {
      "text/html": [
       "<div>\n",
       "<style scoped>\n",
       "    .dataframe tbody tr th:only-of-type {\n",
       "        vertical-align: middle;\n",
       "    }\n",
       "\n",
       "    .dataframe tbody tr th {\n",
       "        vertical-align: top;\n",
       "    }\n",
       "\n",
       "    .dataframe thead th {\n",
       "        text-align: right;\n",
       "    }\n",
       "</style>\n",
       "<table border=\"1\" class=\"dataframe\">\n",
       "  <thead>\n",
       "    <tr style=\"text-align: right;\">\n",
       "      <th></th>\n",
       "      <th>Country Name</th>\n",
       "      <th>year</th>\n",
       "      <th>gdp</th>\n",
       "    </tr>\n",
       "  </thead>\n",
       "  <tbody>\n",
       "    <tr>\n",
       "      <th>15571</th>\n",
       "      <td>ZWE</td>\n",
       "      <td>2014</td>\n",
       "      <td>1.67505e+10</td>\n",
       "    </tr>\n",
       "    <tr>\n",
       "      <th>15572</th>\n",
       "      <td>ZWE</td>\n",
       "      <td>2015</td>\n",
       "      <td>1.70487e+10</td>\n",
       "    </tr>\n",
       "    <tr>\n",
       "      <th>15573</th>\n",
       "      <td>ZWE</td>\n",
       "      <td>2016</td>\n",
       "      <td>1.71775e+10</td>\n",
       "    </tr>\n",
       "    <tr>\n",
       "      <th>15574</th>\n",
       "      <td>ZWE</td>\n",
       "      <td>2017</td>\n",
       "      <td>1.79856e+10</td>\n",
       "    </tr>\n",
       "    <tr>\n",
       "      <th>15575</th>\n",
       "      <td>ZWE</td>\n",
       "      <td>2018</td>\n",
       "      <td>NaN</td>\n",
       "    </tr>\n",
       "  </tbody>\n",
       "</table>\n",
       "</div>"
      ],
      "text/plain": [
       "      Country Name  year          gdp\n",
       "15571          ZWE  2014  1.67505e+10\n",
       "15572          ZWE  2015  1.70487e+10\n",
       "15573          ZWE  2016  1.71775e+10\n",
       "15574          ZWE  2017  1.79856e+10\n",
       "15575          ZWE  2018          NaN"
      ]
     },
     "execution_count": 44,
     "metadata": {},
     "output_type": "execute_result"
    }
   ],
   "source": [
    "gdp = pd.DataFrame(data[1:][:])\n",
    "gdp = gdp.rename(columns = {0: \"Country Name\", 1: \"year\", 2: \"gdp\"})\n",
    "gdp.tail()"
   ]
  },
  {
   "cell_type": "code",
   "execution_count": 45,
   "metadata": {},
   "outputs": [
    {
     "data": {
      "text/html": [
       "<div>\n",
       "<style scoped>\n",
       "    .dataframe tbody tr th:only-of-type {\n",
       "        vertical-align: middle;\n",
       "    }\n",
       "\n",
       "    .dataframe tbody tr th {\n",
       "        vertical-align: top;\n",
       "    }\n",
       "\n",
       "    .dataframe thead th {\n",
       "        text-align: right;\n",
       "    }\n",
       "</style>\n",
       "<table border=\"1\" class=\"dataframe\">\n",
       "  <thead>\n",
       "    <tr style=\"text-align: right;\">\n",
       "      <th></th>\n",
       "      <th>code</th>\n",
       "      <th>year</th>\n",
       "      <th>gdp_cons</th>\n",
       "      <th>map</th>\n",
       "    </tr>\n",
       "  </thead>\n",
       "  <tbody>\n",
       "    <tr>\n",
       "      <th>0</th>\n",
       "      <td>ABW</td>\n",
       "      <td>1960</td>\n",
       "      <td>NaN</td>\n",
       "      <td>ABW1960</td>\n",
       "    </tr>\n",
       "    <tr>\n",
       "      <th>1</th>\n",
       "      <td>ABW</td>\n",
       "      <td>1961</td>\n",
       "      <td>NaN</td>\n",
       "      <td>ABW1961</td>\n",
       "    </tr>\n",
       "    <tr>\n",
       "      <th>2</th>\n",
       "      <td>ABW</td>\n",
       "      <td>1962</td>\n",
       "      <td>NaN</td>\n",
       "      <td>ABW1962</td>\n",
       "    </tr>\n",
       "    <tr>\n",
       "      <th>3</th>\n",
       "      <td>ABW</td>\n",
       "      <td>1963</td>\n",
       "      <td>NaN</td>\n",
       "      <td>ABW1963</td>\n",
       "    </tr>\n",
       "    <tr>\n",
       "      <th>4</th>\n",
       "      <td>ABW</td>\n",
       "      <td>1964</td>\n",
       "      <td>NaN</td>\n",
       "      <td>ABW1964</td>\n",
       "    </tr>\n",
       "  </tbody>\n",
       "</table>\n",
       "</div>"
      ],
      "text/plain": [
       "  code  year gdp_cons      map\n",
       "0  ABW  1960      NaN  ABW1960\n",
       "1  ABW  1961      NaN  ABW1961\n",
       "2  ABW  1962      NaN  ABW1962\n",
       "3  ABW  1963      NaN  ABW1963\n",
       "4  ABW  1964      NaN  ABW1964"
      ]
     },
     "execution_count": 45,
     "metadata": {},
     "output_type": "execute_result"
    }
   ],
   "source": [
    "gdp[\"map\"] = gdp.index\n",
    "\n",
    "inst = gdp.values\n",
    "\n",
    "for i in gdp.index:\n",
    "    inst[i][3] = str(inst[i][0]) + str(inst[i][1])\n",
    "    \n",
    "gdp = pd.DataFrame(inst, columns = [\"code\", \"year\", \"gdp_cons\", \"map\"])\n",
    "gdp.head()"
   ]
  },
  {
   "cell_type": "code",
   "execution_count": 46,
   "metadata": {},
   "outputs": [],
   "source": [
    "gdp.drop([\"code\", \"year\"], axis = 1, inplace=True)"
   ]
  },
  {
   "cell_type": "code",
   "execution_count": 47,
   "metadata": {
    "scrolled": true
   },
   "outputs": [
    {
     "data": {
      "text/html": [
       "<div>\n",
       "<style scoped>\n",
       "    .dataframe tbody tr th:only-of-type {\n",
       "        vertical-align: middle;\n",
       "    }\n",
       "\n",
       "    .dataframe tbody tr th {\n",
       "        vertical-align: top;\n",
       "    }\n",
       "\n",
       "    .dataframe thead th {\n",
       "        text-align: right;\n",
       "    }\n",
       "</style>\n",
       "<table border=\"1\" class=\"dataframe\">\n",
       "  <thead>\n",
       "    <tr style=\"text-align: right;\">\n",
       "      <th></th>\n",
       "      <th>gdp_cons</th>\n",
       "      <th>map</th>\n",
       "    </tr>\n",
       "  </thead>\n",
       "  <tbody>\n",
       "    <tr>\n",
       "      <th>15571</th>\n",
       "      <td>1.67505e+10</td>\n",
       "      <td>ZWE2014</td>\n",
       "    </tr>\n",
       "    <tr>\n",
       "      <th>15572</th>\n",
       "      <td>1.70487e+10</td>\n",
       "      <td>ZWE2015</td>\n",
       "    </tr>\n",
       "    <tr>\n",
       "      <th>15573</th>\n",
       "      <td>1.71775e+10</td>\n",
       "      <td>ZWE2016</td>\n",
       "    </tr>\n",
       "    <tr>\n",
       "      <th>15574</th>\n",
       "      <td>1.79856e+10</td>\n",
       "      <td>ZWE2017</td>\n",
       "    </tr>\n",
       "    <tr>\n",
       "      <th>15575</th>\n",
       "      <td>NaN</td>\n",
       "      <td>ZWE2018</td>\n",
       "    </tr>\n",
       "  </tbody>\n",
       "</table>\n",
       "</div>"
      ],
      "text/plain": [
       "          gdp_cons      map\n",
       "15571  1.67505e+10  ZWE2014\n",
       "15572  1.70487e+10  ZWE2015\n",
       "15573  1.71775e+10  ZWE2016\n",
       "15574  1.79856e+10  ZWE2017\n",
       "15575          NaN  ZWE2018"
      ]
     },
     "execution_count": 47,
     "metadata": {},
     "output_type": "execute_result"
    }
   ],
   "source": [
    "gdp.tail()"
   ]
  },
  {
   "cell_type": "code",
   "execution_count": 49,
   "metadata": {},
   "outputs": [],
   "source": [
    "gdp.to_csv(\"GDP_cons.csv\")"
   ]
  },
  {
   "cell_type": "code",
   "execution_count": 33,
   "metadata": {},
   "outputs": [],
   "source": [
    "# END"
   ]
  }
 ],
 "metadata": {
  "kernelspec": {
   "display_name": "Python 3",
   "language": "python",
   "name": "python3"
  },
  "language_info": {
   "codemirror_mode": {
    "name": "ipython",
    "version": 3
   },
   "file_extension": ".py",
   "mimetype": "text/x-python",
   "name": "python",
   "nbconvert_exporter": "python",
   "pygments_lexer": "ipython3",
   "version": "3.7.3"
  }
 },
 "nbformat": 4,
 "nbformat_minor": 2
}
